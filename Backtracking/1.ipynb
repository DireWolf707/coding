{
 "cells": [
  {
   "cell_type": "code",
   "execution_count": 5,
   "metadata": {},
   "outputs": [
    {
     "name": "stdout",
     "output_type": "stream",
     "text": [
      "\n",
      "c\n",
      "b\n",
      "bc\n",
      "a\n",
      "ac\n",
      "ab\n",
      "abc\n"
     ]
    }
   ],
   "source": [
    "def subset(s,ans=''):\n",
    "    if s=='':\n",
    "        print(ans)\n",
    "        return\n",
    "    subset(s[1:],ans)\n",
    "    subset(s[1:],ans+s[0])\n",
    "subset('abc')"
   ]
  },
  {
   "cell_type": "code",
   "execution_count": 8,
   "metadata": {},
   "outputs": [],
   "source": [
    "def permutation(s,ans=''):\n",
    "    if s == '': \n",
    "        print(ans)\n",
    "        return\n",
    "    for i in range(len(s)):\n",
    "        permutation(s[:i]+s[i+1:],ans+s[i])\n",
    "permutation('abc')"
   ]
  },
  {
   "cell_type": "code",
   "execution_count": 15,
   "metadata": {},
   "outputs": [],
   "source": [
    "def is_safe(arr,r,c,n,v) -> bool:\n",
    "    # check current row and col for value\n",
    "    for i in range(n):\n",
    "        if arr[r][i] == v or arr[i][c] == v:\n",
    "            return False\n",
    "    # check current 3x3 sqaure for value \n",
    "    startRow = r - r % 3\n",
    "    startCol = c - c % 3\n",
    "    for i in range(3):\n",
    "        for j in range(3):\n",
    "            if arr[i + startRow][j + startCol] == v:\n",
    "                return False\n",
    "    return True\n",
    "\n",
    "def sudoku(arr,r,c,n):\n",
    "    # outer loop (row out of index) -> only happens when solution is found -> for loop for (9,9) found a safe value\n",
    "    if r == n:\n",
    "        # return true to let below callstack know soln is found and no need to iterate for loop for more safe values\n",
    "        return True\n",
    "    # inner loop (col out of index) -> move to next row\n",
    "    if c == n:\n",
    "        return sudoku(arr,r+1,0,n) \n",
    "    # if blank\n",
    "    if arr[r][c] == '.':\n",
    "        # checking values [1,9]\n",
    "        for num in range(1,10):\n",
    "            num = str(num)\n",
    "            # if safe\n",
    "            if is_safe(arr,r,c,n,num):\n",
    "                # insert value\n",
    "                arr[r][c] = num\n",
    "                # try solving for next blank after setting current cell as current safe value\n",
    "                is_solved = sudoku(arr,r,c+1,n)\n",
    "                # if a solution is found using current safe value, return True for below callstack to stop iterating for new safe values\n",
    "                if is_solved: \n",
    "                    return True\n",
    "                # if no solution is found using current safe value, iterate for next safe value\n",
    "        # backtrack: reset current cell if no safe or valid (having solution) value is found \n",
    "        arr[r][c] = '.'\n",
    "        # no solution found for this sub-problem -> safe value selected in below call stack must be changed \n",
    "        return False\n",
    "    # if not blank just iterate to next col\n",
    "    else:\n",
    "        return sudoku(arr,r,c+1,n)\n"
   ]
  },
  {
   "cell_type": "code",
   "execution_count": 16,
   "metadata": {},
   "outputs": [],
   "source": [
    "board = [[\"5\",\"3\",\".\",\".\",\"7\",\".\",\".\",\".\",\".\"],[\"6\",\".\",\".\",\"1\",\"9\",\"5\",\".\",\".\",\".\"],[\".\",\"9\",\"8\",\".\",\".\",\".\",\".\",\"6\",\".\"],[\"8\",\".\",\".\",\".\",\"6\",\".\",\".\",\".\",\"3\"],[\"4\",\".\",\".\",\"8\",\".\",\"3\",\".\",\".\",\"1\"],[\"7\",\".\",\".\",\".\",\"2\",\".\",\".\",\".\",\"6\"],[\".\",\"6\",\".\",\".\",\".\",\".\",\"2\",\"8\",\".\"],[\".\",\".\",\".\",\"4\",\"1\",\"9\",\".\",\".\",\"5\"],[\".\",\".\",\".\",\".\",\"8\",\".\",\".\",\"7\",\"9\"]]"
   ]
  },
  {
   "cell_type": "code",
   "execution_count": 17,
   "metadata": {},
   "outputs": [
    {
     "data": {
      "text/plain": [
       "True"
      ]
     },
     "execution_count": 17,
     "metadata": {},
     "output_type": "execute_result"
    }
   ],
   "source": [
    "sudoku(board,0,0,len(board))"
   ]
  },
  {
   "cell_type": "code",
   "execution_count": null,
   "metadata": {},
   "outputs": [],
   "source": []
  }
 ],
 "metadata": {
  "interpreter": {
   "hash": "2a8431a8e68ef2d76b7193ad360e5695863511544801ded22bf3f46f40f05425"
  },
  "kernelspec": {
   "display_name": "Python 3.9.9 64-bit",
   "language": "python",
   "name": "python3"
  },
  "language_info": {
   "codemirror_mode": {
    "name": "ipython",
    "version": 3
   },
   "file_extension": ".py",
   "mimetype": "text/x-python",
   "name": "python",
   "nbconvert_exporter": "python",
   "pygments_lexer": "ipython3",
   "version": "3.9.9"
  },
  "orig_nbformat": 4
 },
 "nbformat": 4,
 "nbformat_minor": 2
}
