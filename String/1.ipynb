{
 "cells": [
  {
   "cell_type": "code",
   "execution_count": 11,
   "metadata": {},
   "outputs": [
    {
     "name": "stdout",
     "output_type": "stream",
     "text": [
      "4 5 1\n"
     ]
    }
   ],
   "source": [
    "def str_detail(s):\n",
    "    alpha = space = digit  = 0\n",
    "    for i in s:\n",
    "        if i >= '0' and i <= '9': digit+=1\n",
    "        if (i >= 'a' and i <= 'z') or (i >= 'A' and i <= 'B'): alpha+=1\n",
    "        if i == ' ': space+=1\n",
    "    print(alpha,digit,space)\n",
    "str_detail('abc12 345d')"
   ]
  },
  {
   "cell_type": "code",
   "execution_count": 18,
   "metadata": {},
   "outputs": [
    {
     "name": "stdout",
     "output_type": "stream",
     "text": [
      "SW"
     ]
    }
   ],
   "source": [
    "def direction(s):\n",
    "    x = y = 0\n",
    "    for i in s:\n",
    "        if i == 'N': y+=1\n",
    "        elif i == 'S': y-=1\n",
    "        elif i == 'E': x+=1\n",
    "        elif i == 'W': x-=1\n",
    "    \n",
    "    if x > 0 :\n",
    "        while x!=0 :\n",
    "            print('N',end='')\n",
    "            x-=1\n",
    "    elif x < 0:\n",
    "        while x!=0 :\n",
    "            print('S',end='')\n",
    "            x+=1\n",
    "\n",
    "    if y > 0 :\n",
    "        while y!=0 :\n",
    "            print('E',end='')\n",
    "            y-=1\n",
    "    elif y < 0:\n",
    "        while y!=0 :\n",
    "            print('W',end='')\n",
    "            y+=1\n",
    "\n",
    "direction('NSSNENSWWSEW')"
   ]
  },
  {
   "cell_type": "code",
   "execution_count": 1,
   "metadata": {},
   "outputs": [
    {
     "name": "stdout",
     "output_type": "stream",
     "text": [
      "a3b2c1d4\n"
     ]
    }
   ],
   "source": [
    "def run_length_encoding(s):\n",
    "    compressed = str()\n",
    "    l = len(s)\n",
    "    i = 0\n",
    "    while i < l:\n",
    "        curr_count = 0 \n",
    "        curr_ele = s[i]\n",
    "        while i < l and s[i] == curr_ele: \n",
    "            curr_count += 1\n",
    "            i += 1\n",
    "        compressed += curr_ele + str(curr_count)\n",
    "    print(compressed)\n",
    "    \n",
    "run_length_encoding('a'*3+'b'*2+'c'*1+'d'*4)"
   ]
  },
  {
   "cell_type": "code",
   "execution_count": null,
   "metadata": {},
   "outputs": [],
   "source": []
  }
 ],
 "metadata": {
  "interpreter": {
   "hash": "2a8431a8e68ef2d76b7193ad360e5695863511544801ded22bf3f46f40f05425"
  },
  "kernelspec": {
   "display_name": "Python 3.9.9 64-bit",
   "language": "python",
   "name": "python3"
  },
  "language_info": {
   "codemirror_mode": {
    "name": "ipython",
    "version": 3
   },
   "file_extension": ".py",
   "mimetype": "text/x-python",
   "name": "python",
   "nbconvert_exporter": "python",
   "pygments_lexer": "ipython3",
   "version": "3.9.9"
  },
  "orig_nbformat": 4
 },
 "nbformat": 4,
 "nbformat_minor": 2
}
