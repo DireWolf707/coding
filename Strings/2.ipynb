{
 "cells": [
  {
   "cell_type": "code",
   "execution_count": 2,
   "metadata": {},
   "outputs": [
    {
     "data": {
      "text/plain": [
       "True"
      ]
     },
     "execution_count": 2,
     "metadata": {},
     "output_type": "execute_result"
    }
   ],
   "source": [
    "def check_subset(s1, s2):\n",
    "    i = 0\n",
    "    len_s1 = len(s1)\n",
    "    j = 0\n",
    "    len_s2 = len(s2)\n",
    "    while i < len_s1 and j < len_s2:\n",
    "        if s1[i] == s2[j]:\n",
    "            j+=1\n",
    "            i+=1\n",
    "        else:\n",
    "            i+=1\n",
    "    return j == len_s2\n",
    "check_subset('codingminutes','cines')"
   ]
  },
  {
   "cell_type": "code",
   "execution_count": 22,
   "metadata": {},
   "outputs": [],
   "source": [
    "def sorted_subsequence(s,ans=''):\n",
    "    if s == '':\n",
    "        return [ans]\n",
    "    excluding = sorted_subsequence(s[1:],ans)\n",
    "    including = sorted_subsequence(s[1:],ans+s[0])\n",
    "    \n",
    "    return excluding + including\n",
    "\n",
    "def compare(x,y):\n",
    "    len_x = len(x)\n",
    "    len_y = len(y)\n",
    "    if len_x == len_y:\n",
    "        return x < y\n",
    "    return len_x < len_y"
   ]
  },
  {
   "cell_type": "code",
   "execution_count": 25,
   "metadata": {},
   "outputs": [
    {
     "data": {
      "text/plain": [
       "['',\n",
       " 'a',\n",
       " 'ab',\n",
       " 'abc',\n",
       " 'abcd',\n",
       " 'abd',\n",
       " 'ac',\n",
       " 'acd',\n",
       " 'ad',\n",
       " 'b',\n",
       " 'bc',\n",
       " 'bcd',\n",
       " 'bd',\n",
       " 'c',\n",
       " 'cd',\n",
       " 'd']"
      ]
     },
     "execution_count": 25,
     "metadata": {},
     "output_type": "execute_result"
    }
   ],
   "source": [
    "ans = sorted_subsequence('abcd')\n",
    "ans.sort()\n",
    "ans"
   ]
  },
  {
   "cell_type": "code",
   "execution_count": null,
   "metadata": {},
   "outputs": [],
   "source": []
  }
 ],
 "metadata": {
  "interpreter": {
   "hash": "1c4eeb78d5e1dc6cb6e62b5bd20620b702dce5b8b8ded6688ef7aad2e1c0d17c"
  },
  "kernelspec": {
   "display_name": "Python 3.9.9 64-bit",
   "language": "python",
   "name": "python3"
  },
  "language_info": {
   "codemirror_mode": {
    "name": "ipython",
    "version": 3
   },
   "file_extension": ".py",
   "mimetype": "text/x-python",
   "name": "python",
   "nbconvert_exporter": "python",
   "pygments_lexer": "ipython3",
   "version": "3.9.9"
  },
  "orig_nbformat": 4
 },
 "nbformat": 4,
 "nbformat_minor": 2
}
