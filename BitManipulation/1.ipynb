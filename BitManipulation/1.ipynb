{
 "cells": [
  {
   "cell_type": "code",
   "execution_count": 10,
   "metadata": {},
   "outputs": [
    {
     "name": "stdout",
     "output_type": "stream",
     "text": [
      "even\n"
     ]
    }
   ],
   "source": [
    "def odd_even(num):\n",
    "    mask = 1 # 001\n",
    "    if num & mask: print('odd') \n",
    "    else: print('even')\n",
    "odd_even(2)"
   ]
  },
  {
   "cell_type": "code",
   "execution_count": 25,
   "metadata": {},
   "outputs": [
    {
     "name": "stdout",
     "output_type": "stream",
     "text": [
      "1\n"
     ]
    }
   ],
   "source": [
    "def getIthBit(num,i):\n",
    "    mask = 1<<i # 010\n",
    "    if num & mask == 0 : print(0) \n",
    "    else: print(1)\n",
    "getIthBit(2,1)"
   ]
  },
  {
   "cell_type": "code",
   "execution_count": 28,
   "metadata": {},
   "outputs": [
    {
     "name": "stdout",
     "output_type": "stream",
     "text": [
      "1\n"
     ]
    }
   ],
   "source": [
    "def clearIthBit(num,i):\n",
    "    mask = ~(1<<i) # 010 -> 101\n",
    "    print(num&mask)\n",
    "clearIthBit(3,1)"
   ]
  },
  {
   "cell_type": "code",
   "execution_count": 34,
   "metadata": {},
   "outputs": [
    {
     "name": "stdout",
     "output_type": "stream",
     "text": [
      "6\n"
     ]
    }
   ],
   "source": [
    "# set to one eitherway\n",
    "def setIthBit(num,i):\n",
    "    mask = 1<<i\n",
    "    print(num|mask)\n",
    "setIthBit(4,1)"
   ]
  },
  {
   "cell_type": "code",
   "execution_count": 35,
   "metadata": {},
   "outputs": [],
   "source": [
    "def updateIthBit(num,i,v):\n",
    "    clearIthBit(num,i)\n",
    "    mask = v<<i\n",
    "    print(num|mask)"
   ]
  },
  {
   "cell_type": "markdown",
   "metadata": {},
   "source": [
    "we can start with 000 (0), 001 (1), 111 (~0 == -1)"
   ]
  },
  {
   "cell_type": "code",
   "execution_count": 37,
   "metadata": {},
   "outputs": [],
   "source": [
    "def clearlastIthBits(num,i):\n",
    "    mask = (~0) << i # 111 -> 110\n",
    "    print(num&mask)"
   ]
  },
  {
   "cell_type": "code",
   "execution_count": 39,
   "metadata": {},
   "outputs": [],
   "source": [
    "def clearBitsInrange(num,s,e):\n",
    "    maska = (~0)<<(e+1)\n",
    "    maskb = (1<<s)-1\n",
    "    mask = maska|maskb\n",
    "    return num|mask"
   ]
  },
  {
   "cell_type": "code",
   "execution_count": 40,
   "metadata": {},
   "outputs": [],
   "source": [
    "def replaceBitsInRange(num,s,e,v):\n",
    "    num = clearBitsInrange(num,s,e)\n",
    "    mask = v<<s\n",
    "    print(num|mask)"
   ]
  },
  {
   "cell_type": "code",
   "execution_count": 1,
   "metadata": {},
   "outputs": [],
   "source": [
    "def powerOfTwo(num):\n",
    "    return num&num-1 == 0"
   ]
  },
  {
   "cell_type": "code",
   "execution_count": 5,
   "metadata": {},
   "outputs": [
    {
     "data": {
      "text/plain": [
       "1"
      ]
     },
     "execution_count": 5,
     "metadata": {},
     "output_type": "execute_result"
    }
   ],
   "source": [
    "# O(logn)\n",
    "def countBits(num):\n",
    "    c = 0\n",
    "    while num>0:\n",
    "        lastbit = num&1\n",
    "        c+= lastbit\n",
    "        num = num>>1\n",
    "    return c\n",
    "\n",
    "def countBits2(num):\n",
    "    c = 0\n",
    "    while num>0:\n",
    "        num = num & (num-1)\n",
    "        c+=1\n",
    "    return c\n",
    "\n",
    "countBits(4)"
   ]
  },
  {
   "cell_type": "code",
   "execution_count": 7,
   "metadata": {},
   "outputs": [
    {
     "name": "stdout",
     "output_type": "stream",
     "text": [
      "32\n"
     ]
    }
   ],
   "source": [
    "def fastExponent(a,n):\n",
    "    ans = 1\n",
    "    while n > 0:\n",
    "        lastbit = n & 1\n",
    "        if lastbit: # if 001 -> 1 -> true\n",
    "            ans *= a\n",
    "        a = a*a\n",
    "        n = n>>1\n",
    "    print(ans)\n",
    "fastExponent(2,5)"
   ]
  },
  {
   "cell_type": "code",
   "execution_count": 1,
   "metadata": {},
   "outputs": [
    {
     "name": "stdout",
     "output_type": "stream",
     "text": [
      "100\n"
     ]
    }
   ],
   "source": [
    "def toBinary(n):\n",
    "    ans = 0\n",
    "    p = 1\n",
    "    while n>0 :\n",
    "        lastbit = n&1\n",
    "        ans += p*lastbit\n",
    "        p=p*10\n",
    "        n = n>>1\n",
    "    print(ans)\n",
    "toBinary(4)"
   ]
  },
  {
   "cell_type": "code",
   "execution_count": 4,
   "metadata": {},
   "outputs": [
    {
     "data": {
      "text/plain": [
       "4"
      ]
     },
     "execution_count": 4,
     "metadata": {},
     "output_type": "execute_result"
    }
   ],
   "source": [
    "import math\n",
    "def num_digits(num):\n",
    "    return math.floor(math.log10(num)) + 1\n",
    "num_digits(1234)"
   ]
  }
 ],
 "metadata": {
  "interpreter": {
   "hash": "2a8431a8e68ef2d76b7193ad360e5695863511544801ded22bf3f46f40f05425"
  },
  "kernelspec": {
   "display_name": "Python 3.9.9 64-bit",
   "language": "python",
   "name": "python3"
  },
  "language_info": {
   "codemirror_mode": {
    "name": "ipython",
    "version": 3
   },
   "file_extension": ".py",
   "mimetype": "text/x-python",
   "name": "python",
   "nbconvert_exporter": "python",
   "pygments_lexer": "ipython3",
   "version": "3.9.9"
  },
  "orig_nbformat": 4
 },
 "nbformat": 4,
 "nbformat_minor": 2
}
