{
 "cells": [
  {
   "cell_type": "code",
   "execution_count": 150,
   "metadata": {},
   "outputs": [],
   "source": [
    "class Heap:\n",
    "    def __init__(self):\n",
    "        self.arr = list()\n",
    "        self.end = -1\n",
    "\n",
    "    def push(self, data):\n",
    "        self.arr.append(data)\n",
    "        self.end += 1\n",
    "\n",
    "        idx = self.end\n",
    "        parent_idx = (idx - 1) // 2\n",
    "        # idx > 0 => except root node and root node is at index 0\n",
    "        while idx > 0 and self.arr[idx] < self.arr[parent_idx]:\n",
    "            self.arr[idx], self.arr[parent_idx] = self.arr[parent_idx], self.arr[idx]\n",
    "            idx = parent_idx\n",
    "            parent_idx = (idx - 1) // 2\n",
    "\n",
    "    def top(self):\n",
    "        return self.arr[0]\n",
    "    \n",
    "    def pop(self):\n",
    "        # if empty\n",
    "        if self.end == -1: return None\n",
    "        # swap first with last\n",
    "        self.arr[0], self.arr[self.end] = self.arr[self.end], self.arr[0]\n",
    "        # delete last\n",
    "        popped = self.arr[self.end]\n",
    "        self.end -= 1\n",
    "        # down heafify swap parent with smallest child\n",
    "        idx = 0\n",
    "        # idx <= self.end => until last node\n",
    "        while idx <= self.end: # or 2*idx+1 <= self.end => if not left then not right\n",
    "            # finding smallest of parents and childs\n",
    "            min_idx = idx\n",
    "            # self.arr[2*idx+1] < self.arr[min_idx] => as already checked in while condn\n",
    "            if 2*idx+1 <= self.end and self.arr[2*idx+1] < self.arr[min_idx]:\n",
    "                min_idx = 2*idx+1\n",
    "            if 2*idx+2 <= self.end and self.arr[2*idx+2] < self.arr[min_idx]:\n",
    "                min_idx = 2*idx+2\n",
    "            # if parent itself is min\n",
    "            if min_idx == idx: break\n",
    "            # swap to min and iterate to min\n",
    "            self.arr[min_idx], self.arr[idx] = self.arr[idx], self.arr[min_idx]\n",
    "            idx = min_idx\n",
    "        return popped\n",
    "\n",
    "\n",
    "class Heap2:\n",
    "    def __init__(self, type='min'):\n",
    "        self.arr = list()\n",
    "        self.end = -1\n",
    "        self.type = type\n",
    "\n",
    "    def compare(self,idx1,idx2):\n",
    "        if self.type == 'min':\n",
    "            return self.arr[idx1] < self.arr[idx2]\n",
    "        return self.arr[idx1] > self.arr[idx2]\n",
    "\n",
    "\n",
    "    def push(self, data):\n",
    "        self.arr.append(data)\n",
    "        self.end += 1\n",
    "\n",
    "        idx = self.end\n",
    "        parent_idx = (idx - 1) // 2\n",
    "        # idx > 0 => except root node and root node is at index 0\n",
    "        while idx > 0 and self.compare(idx,parent_idx):\n",
    "            self.arr[idx], self.arr[parent_idx] = self.arr[parent_idx], self.arr[idx]\n",
    "            idx = parent_idx\n",
    "            parent_idx = (idx - 1) // 2\n",
    "\n",
    "    def top(self):\n",
    "        return self.arr[0]\n",
    "    \n",
    "    def pop(self):\n",
    "        # if empty\n",
    "        if self.end == -1: return None\n",
    "        # swap first with last\n",
    "        self.arr[0], self.arr[self.end] = self.arr[self.end], self.arr[0]\n",
    "        # delete last\n",
    "        popped = self.arr[self.end]\n",
    "        self.end -= 1\n",
    "        # down heafify swap parent with smallest child\n",
    "        idx = 0\n",
    "        # idx <= self.end => until last node\n",
    "        while idx <= self.end: # or 2*idx+1 <= self.end => if not left then not right\n",
    "            # finding smallest of parents and childs\n",
    "            min_idx = idx\n",
    "            # self.arr[2*idx+1] < self.arr[min_idx] => as already checked in while condn\n",
    "            if 2*idx+1 <= self.end and self.compare(2*idx+1,min_idx):\n",
    "                min_idx = 2*idx+1\n",
    "            if 2*idx+2 <= self.end and self.compare(2*idx+2,min_idx):\n",
    "                min_idx = 2*idx+2\n",
    "            # if parent itself is min\n",
    "            if min_idx == idx: break\n",
    "            # swap to min and iterate to min\n",
    "            self.arr[min_idx], self.arr[idx] = self.arr[idx], self.arr[min_idx]\n",
    "            idx = min_idx\n",
    "        return popped\n",
    "\n"
   ]
  },
  {
   "cell_type": "code",
   "execution_count": 170,
   "metadata": {},
   "outputs": [
    {
     "data": {
      "text/plain": [
       "70"
      ]
     },
     "execution_count": 170,
     "metadata": {},
     "output_type": "execute_result"
    }
   ],
   "source": [
    "h = Heap2(type='max')\n",
    "for i in [10,20,30,25,70,40]:\n",
    "    h.push(i)\n",
    "h.top()"
   ]
  },
  {
   "cell_type": "code",
   "execution_count": 166,
   "metadata": {},
   "outputs": [],
   "source": [
    "h.pop()"
   ]
  },
  {
   "cell_type": "code",
   "execution_count": 181,
   "metadata": {},
   "outputs": [],
   "source": [
    "def k_nearest(arr,k):\n",
    "    heap = Heap2(type='max')\n",
    "    for i in range(k):\n",
    "        heap.push(arr[i])\n",
    "    for i in range(k+1,len(arr)):\n",
    "        if arr[i] < heap.top():\n",
    "            heap.pop()\n",
    "            heap.push(arr[i])\n",
    "    ans = list()\n",
    "    for i in range(k):\n",
    "        ans.append(heap.pop())\n",
    "    ans.sort()\n",
    "    return ans\n"
   ]
  },
  {
   "cell_type": "code",
   "execution_count": 182,
   "metadata": {},
   "outputs": [
    {
     "data": {
      "text/plain": [
       "[10, 20, 25, 30]"
      ]
     },
     "execution_count": 182,
     "metadata": {},
     "output_type": "execute_result"
    }
   ],
   "source": [
    "k_nearest([10,20,30,25,70,40],4)"
   ]
  },
  {
   "cell_type": "code",
   "execution_count": null,
   "metadata": {},
   "outputs": [],
   "source": []
  }
 ],
 "metadata": {
  "interpreter": {
   "hash": "2a8431a8e68ef2d76b7193ad360e5695863511544801ded22bf3f46f40f05425"
  },
  "kernelspec": {
   "display_name": "Python 3.9.9 64-bit",
   "language": "python",
   "name": "python3"
  },
  "language_info": {
   "codemirror_mode": {
    "name": "ipython",
    "version": 3
   },
   "file_extension": ".py",
   "mimetype": "text/x-python",
   "name": "python",
   "nbconvert_exporter": "python",
   "pygments_lexer": "ipython3",
   "version": "3.9.9"
  },
  "orig_nbformat": 4
 },
 "nbformat": 4,
 "nbformat_minor": 2
}
