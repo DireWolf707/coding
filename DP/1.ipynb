{
 "cells": [
  {
   "cell_type": "code",
   "execution_count": 45,
   "metadata": {},
   "outputs": [],
   "source": [
    "def coin_exchange_r(coins, target, steps = 0):\n",
    "    if target == 0:\n",
    "        return steps\n",
    "\n",
    "    min_steps = float('inf')\n",
    "    for c in coins:\n",
    "        if c <= target:\n",
    "            curr_steps = coin_exchange_r(coins, target-c, steps+1)\n",
    "            min_steps = min(min_steps, curr_steps)\n",
    "\n",
    "    return min_steps\n"
   ]
  },
  {
   "cell_type": "code",
   "execution_count": 46,
   "metadata": {},
   "outputs": [
    {
     "data": {
      "text/plain": [
       "3"
      ]
     },
     "execution_count": 46,
     "metadata": {},
     "output_type": "execute_result"
    }
   ],
   "source": [
    "coin_exchange_r([1,3,7,10], 15)"
   ]
  },
  {
   "cell_type": "code",
   "execution_count": 60,
   "metadata": {},
   "outputs": [
    {
     "data": {
      "text/plain": [
       "3"
      ]
     },
     "execution_count": 60,
     "metadata": {},
     "output_type": "execute_result"
    }
   ],
   "source": [
    "def coin_exchange_i(coins, target):\n",
    "    dp = [-1 for i in range(target+1)]\n",
    "    dp[0] = 0\n",
    "\n",
    "    for i in range(1,target+1):\n",
    "        curr_min = float('inf')\n",
    "        for c in coins:\n",
    "            if c <= i: # we can reach previous calculated coins from any availabe coins\n",
    "                curr_min = min(curr_min, dp[i-c]+1)\n",
    "        dp[i] = curr_min\n",
    "\n",
    "    return dp[target] if dp[target] != float('inf') else -1\n",
    "\n",
    "\n",
    "coin_exchange_i([1,3,7,10], 15)"
   ]
  },
  {
   "cell_type": "code",
   "execution_count": 97,
   "metadata": {},
   "outputs": [],
   "source": [
    "def longest_subsequence_i(arr):\n",
    "    dp = [-1 for i in range(len(arr))]\n",
    "    global_max = 1\n",
    "    for i in range(1,len(arr)):\n",
    "        curr_max = 1\n",
    "        for j in range(0,i):\n",
    "            if arr[j] < arr[i]:\n",
    "                curr_max = max(curr_max, dp[j] + 1)\n",
    "                global_max = max(curr_max, global_max)\n",
    "        dp[i] = curr_max\n",
    "    return global_max\n",
    "    "
   ]
  },
  {
   "cell_type": "code",
   "execution_count": 98,
   "metadata": {},
   "outputs": [
    {
     "data": {
      "text/plain": [
       "4"
      ]
     },
     "execution_count": 98,
     "metadata": {},
     "output_type": "execute_result"
    }
   ],
   "source": [
    "arr = [50,4,10,8,30,100]\n",
    "longest_subsequence_i(arr)"
   ]
  },
  {
   "cell_type": "code",
   "execution_count": 137,
   "metadata": {},
   "outputs": [],
   "source": [
    "def knapsack(wts,prices,n,w,dp):\n",
    "    if n == 0 or w == 0:\n",
    "        return 0\n",
    "    \n",
    "    including = prices[n-1] + knapsack(wts,prices,n-1,w - wts[n-1],dp) if w - wts[n-1] >= 0 else 0\n",
    "    excluding = knapsack(wts,prices,n-1,w,dp)\n",
    "    dp[n][w] = max(including,excluding)\n",
    "    return dp[n][w]"
   ]
  },
  {
   "cell_type": "code",
   "execution_count": 140,
   "metadata": {},
   "outputs": [
    {
     "data": {
      "text/plain": [
       "[[0, 0, 0, 0, 0, 0, 0, 0, 0, 0, 0, 0],\n",
       " [0, 0, 0, 0, 5, 0, 0, 5, 5, 0, 0, 5],\n",
       " [0, 0, 0, 0, 5, 0, 0, 20, 20, 0, 0, 25],\n",
       " [0, 0, 0, 0, 0, 0, 0, 25, 0, 0, 0, 40],\n",
       " [0, 0, 0, 0, 0, 0, 0, 0, 0, 0, 0, 40]]"
      ]
     },
     "execution_count": 140,
     "metadata": {},
     "output_type": "execute_result"
    }
   ],
   "source": [
    "wts = [2,7,3,4]\n",
    "prices = [5,20,20,10]\n",
    "n=4\n",
    "w=11\n",
    "dp = [[0 for i in range(w+1)] for j in range(n+1)]\n",
    "knapsack(wts,prices,n,w,dp)\n",
    "dp"
   ]
  },
  {
   "cell_type": "code",
   "execution_count": 112,
   "metadata": {},
   "outputs": [],
   "source": [
    "def knapsack(wts,prices,n,w):\n",
    "    dp = [[0 for i in range(w+1)] for j in range(n+1)]\n",
    "\n",
    "    for n in range(1,n+1):\n",
    "        for w in range(1,w+1):\n",
    "            including = prices[n-1] + dp[n-1][w - wts[n-1]] if w - wts[n-1] >= 0 else 0\n",
    "            excluding = dp[n-1][w]\n",
    "            dp[n][w] = max(including, excluding)\n",
    "    \n",
    "    return dp[n][w]"
   ]
  },
  {
   "cell_type": "code",
   "execution_count": 135,
   "metadata": {},
   "outputs": [
    {
     "data": {
      "text/plain": [
       "40"
      ]
     },
     "execution_count": 135,
     "metadata": {},
     "output_type": "execute_result"
    }
   ],
   "source": [
    "knapsack([2,7,3,4],[5,20,20,10],4,11)"
   ]
  },
  {
   "cell_type": "code",
   "execution_count": 129,
   "metadata": {},
   "outputs": [],
   "source": [
    "def wines_r(prices,l,r,year=1,total=0,dp=[[]]):\n",
    "    if r < l:\n",
    "        return total\n",
    "\n",
    "    left = wines_r(prices,l+1,r,year+1,total+prices[l]*year,dp)\n",
    "    right = wines_r(prices,l,r-1,year+1,total+prices[r]*year,dp)\n",
    "    dp[l][r] = max(left,right)\n",
    "    return dp[l][r]"
   ]
  },
  {
   "cell_type": "code",
   "execution_count": 141,
   "metadata": {},
   "outputs": [
    {
     "data": {
      "text/plain": [
       "50"
      ]
     },
     "execution_count": 141,
     "metadata": {},
     "output_type": "execute_result"
    }
   ],
   "source": [
    "prices = [2,3,5,1,4]\n",
    "dp = [[0 for i in range(len(prices))] for j in range(len(prices))]\n",
    "wines_r(prices,0,len(prices)-1,1,0,dp)"
   ]
  },
  {
   "cell_type": "code",
   "execution_count": null,
   "metadata": {},
   "outputs": [],
   "source": [
    "def wines_i(prices,):"
   ]
  }
 ],
 "metadata": {
  "interpreter": {
   "hash": "1c4eeb78d5e1dc6cb6e62b5bd20620b702dce5b8b8ded6688ef7aad2e1c0d17c"
  },
  "kernelspec": {
   "display_name": "Python 3.9.9 64-bit",
   "language": "python",
   "name": "python3"
  },
  "language_info": {
   "codemirror_mode": {
    "name": "ipython",
    "version": 3
   },
   "file_extension": ".py",
   "mimetype": "text/x-python",
   "name": "python",
   "nbconvert_exporter": "python",
   "pygments_lexer": "ipython3",
   "version": "3.9.9"
  },
  "orig_nbformat": 4
 },
 "nbformat": 4,
 "nbformat_minor": 2
}
