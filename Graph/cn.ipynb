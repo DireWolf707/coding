{
 "cells": [
  {
   "cell_type": "code",
   "execution_count": 137,
   "metadata": {},
   "outputs": [],
   "source": [
    "# bi-directional and unweighted but can be disconnected\n",
    "class Graph:\n",
    "    def __init__(self, n):\n",
    "        self.n = n\n",
    "        self.adjMatrix = [[0 for i in range(n)] for i in range(n)]\n",
    "    \n",
    "    def addEdge(self, v1, v2):\n",
    "        if not self.containsEdge(v1, v2):\n",
    "            self.adjMatrix[v1][v2] = 1\n",
    "            self.adjMatrix[v2][v1] = 1\n",
    "\n",
    "    def removeEdge(self, v1, v2):\n",
    "        if self.containsEdge(v1, v2):\n",
    "            self.adjMatrix[v1][v2] = 0\n",
    "            self.adjMatrix[v2][v1] = 0\n",
    "\n",
    "    def containsEdge(self, v1, v2):\n",
    "        return self.adjMatrix[v1][v2] == 1\n",
    "    \n",
    "    def __str__(self):\n",
    "        return str(self.adjMatrix)\n",
    "\n",
    "    def __dfs_helper(self, v, visited):\n",
    "        print(v)\n",
    "        # mark as visited\n",
    "        visited[v] = True\n",
    "        for i in range(self.n): \n",
    "            # if vertex and not visited\n",
    "            if self.adjMatrix[v][i] == 1 and not visited[i]:\n",
    "                self.__dfs_helper(i, visited)\n",
    "    \n",
    "    def dfs(self):\n",
    "        visited = [False for i in range(self.n)]\n",
    "        # looping all node to check if visited as some vertices may not be included because of dicontinous\n",
    "        for i in range(self.n):\n",
    "            if not visited[i]:\n",
    "                self.__dfs_helper(i, visited)\n",
    "\n",
    "    def __is_connected_helper(self, v, visited):\n",
    "        # mark as visited\n",
    "        visited[v] = True\n",
    "        for i in range(self.n): \n",
    "            # if vertex and not visited\n",
    "            if self.adjMatrix[v][i] == 1 and not visited[i]:\n",
    "                self.__is_connected_helper(i, visited)\n",
    "    \n",
    "    def is_connected(self):\n",
    "        visited = [False for i in range(self.n)]\n",
    "        # fill visited using bfs/dfs\n",
    "        self.__is_connected_helper(0, visited)\n",
    "        # return false if any node remain unvisited after dfs/bfs\n",
    "        for i in range(self.n):\n",
    "            if not visited[i]:\n",
    "                return False\n",
    "        return True\n",
    "\n",
    "    def __connected_components_helper(self, v, visited):\n",
    "        # mark as visited\n",
    "        visited[v] = True\n",
    "        # init current component with current vertex\n",
    "        components = [v]\n",
    "        for i in range(self.n): \n",
    "            # if adj vertex and not visited\n",
    "            if self.adjMatrix[v][i] == 1 and not visited[i]:\n",
    "                # add components of adj vertices\n",
    "                components = components + self.__connected_components_helper(i, visited)\n",
    "        # return all gathered componments\n",
    "        return components\n",
    "\n",
    "    def connected_components(self):\n",
    "        visited = [False for i in range(self.n)]\n",
    "        components = list()\n",
    "        # every non visited will give a connected component\n",
    "        for i in range(self.n):\n",
    "            if not visited[i]:\n",
    "                components.append( self.__connected_components_helper(i, visited) )\n",
    "        return components\n",
    "\n",
    "    def bfs(self):\n",
    "        from collections import deque\n",
    "        visited = [False for i in range(self.n)]\n",
    "        for v in range(self.n):\n",
    "            if not visited[v]:\n",
    "                # create q queue\n",
    "                q = deque()\n",
    "                # insert the current vertex\n",
    "                q.append(v)\n",
    "                visited[v] = True\n",
    "                # until empty\n",
    "                while q:\n",
    "                    # pop and process\n",
    "                    curr_v = q.popleft()\n",
    "                    print(curr_v)\n",
    "                    # adding curr vertex edges in queue\n",
    "                    for i in range(self.n):\n",
    "                        # if vertex and not visited\n",
    "                        if self.adjMatrix[curr_v][i] == 1 and not visited[i]:\n",
    "                            q.append(i)\n",
    "                            visited[i] = True\n",
    "\n",
    "    def __hasPath_helper(self, v1, v2, visited):\n",
    "        # if its adjacent\n",
    "        if self.adjMatrix[v1][v2] == 1:\n",
    "            return True\n",
    "        # find adjancent of adjacent nodes\n",
    "        visited[v1] = True\n",
    "        for i in range(self.n):\n",
    "            if self.adjMatrix[v1][i] == 1 and not visited[i]:\n",
    "                found = self.__hasPath_helper(i, v2, visited)\n",
    "                if found: return True\n",
    "        return False\n",
    "\n",
    "    def hasPath(self, v1, v2):\n",
    "        visited = [False for i in range(self.n)]\n",
    "        return self.__hasPath_helper(v1, v2, visited)\n",
    "\n",
    "    def __getPath_helper(self, v1, v2, visited):\n",
    "        if self.adjMatrix[v1][v2] == 1:\n",
    "            return [v2]\n",
    "\n",
    "        visited[v1] = True\n",
    "        for i in range(self.n):\n",
    "            if self.adjMatrix[v1][i] == 1 and not visited[i]:\n",
    "                found = self.__getPath_helper(i, v2, visited)\n",
    "                if found: return found+[i]\n",
    "        return []\n",
    "\n",
    "    def getPath(self, v1, v2):\n",
    "        if v1 == v2:\n",
    "            return [v1]\n",
    "        visited = [False for i in range(self.n)]\n",
    "        found = self.__getPath_helper(v1, v2, visited)\n",
    "        if found:\n",
    "            return found + [v1]\n",
    "        return found\n",
    "\n",
    "    def getPathBFS(self, v1, v2):\n",
    "        from collections import deque\n",
    "        q = deque()\n",
    "        q.append(v1)\n",
    "        visited = [False for i in range(self.n)]\n",
    "        visited[v1] = True\n",
    "        # parent dict to maintain parent of current node\n",
    "        parent = dict()\n",
    "        while q:\n",
    "            curr_v = q.popleft()\n",
    "            # if target found\n",
    "            if curr_v == v2:\n",
    "                # create path from parent ot parent to parent from parent until source is reached\n",
    "                path = list()\n",
    "                while v1 != v2:\n",
    "                    path = [v2] + path\n",
    "                    v2 = parent[v2]\n",
    "                # adding source as it got left\n",
    "                path = [v2] + path\n",
    "                return path\n",
    "\n",
    "            for i in range(self.n):\n",
    "                if self.adjMatrix[curr_v][i] == 1 and not visited[i]:\n",
    "                    parent[i] = curr_v\n",
    "                    q.append(i)\n",
    "                    visited[i] = True\n",
    "        return []\n",
    "\n"
   ]
  },
  {
   "cell_type": "code",
   "execution_count": 138,
   "metadata": {},
   "outputs": [
    {
     "name": "stdout",
     "output_type": "stream",
     "text": [
      "0\n",
      "1\n",
      "2\n",
      "3\n",
      "4\n"
     ]
    }
   ],
   "source": [
    "g = Graph(5)\n",
    "g.addEdge(0,1)\n",
    "g.addEdge(1,3)\n",
    "g.addEdge(2,4)\n",
    "g.addEdge(2,3)\n",
    "g.addEdge(0,2)\n",
    "g.bfs()"
   ]
  },
  {
   "cell_type": "code",
   "execution_count": 139,
   "metadata": {},
   "outputs": [
    {
     "name": "stdout",
     "output_type": "stream",
     "text": [
      "0 1 True\n",
      "0 2 True\n",
      "0 3 True\n",
      "0 4 True\n",
      "0 5 False\n",
      "0 6 False\n",
      "\n",
      "1 2 True\n",
      "1 3 True\n",
      "1 4 True\n",
      "1 5 False\n",
      "1 6 False\n",
      "\n",
      "2 3 True\n",
      "2 4 True\n",
      "2 5 False\n",
      "2 6 False\n",
      "\n",
      "3 4 True\n",
      "3 5 False\n",
      "3 6 False\n",
      "\n",
      "4 5 False\n",
      "4 6 False\n",
      "\n",
      "5 6 True\n",
      "\n",
      "\n"
     ]
    }
   ],
   "source": [
    "n = 7\n",
    "g = Graph(n)\n",
    "g.addEdge(0,1)\n",
    "g.addEdge(1,3)\n",
    "g.addEdge(2,4)\n",
    "g.addEdge(2,3)\n",
    "g.addEdge(0,2)\n",
    "g.addEdge(5,6)\n",
    "for i in range(n):\n",
    "    for j in range(i+1,n):\n",
    "        print(i,j,g.hasPath(i,j))\n",
    "    print()"
   ]
  },
  {
   "cell_type": "code",
   "execution_count": 140,
   "metadata": {},
   "outputs": [
    {
     "data": {
      "text/plain": [
       "[0, 2, 4]"
      ]
     },
     "execution_count": 140,
     "metadata": {},
     "output_type": "execute_result"
    }
   ],
   "source": [
    "n = 5\n",
    "g = Graph(n)\n",
    "g.addEdge(0,1)\n",
    "g.addEdge(1,3)\n",
    "g.addEdge(2,4)\n",
    "g.addEdge(2,3)\n",
    "g.addEdge(0,2)\n",
    "\n",
    "g.getPathBFS(0,4)"
   ]
  },
  {
   "cell_type": "code",
   "execution_count": 141,
   "metadata": {},
   "outputs": [
    {
     "data": {
      "text/plain": [
       "[1, 0, 3]"
      ]
     },
     "execution_count": 141,
     "metadata": {},
     "output_type": "execute_result"
    }
   ],
   "source": [
    "g = Graph(5)\n",
    "g.addEdge(4,4)\n",
    "g.addEdge(0,1)\n",
    "g.addEdge(0,3)\n",
    "g.addEdge(1,2)\n",
    "g.addEdge(2,3)\n",
    "g.getPathBFS(1,3)"
   ]
  },
  {
   "cell_type": "code",
   "execution_count": 142,
   "metadata": {},
   "outputs": [
    {
     "data": {
      "text/plain": [
       "[[0, 1, 3, 2, 4], [5, 6]]"
      ]
     },
     "execution_count": 142,
     "metadata": {},
     "output_type": "execute_result"
    }
   ],
   "source": [
    "n = 7\n",
    "g = Graph(n)\n",
    "g.addEdge(0,1)\n",
    "g.addEdge(1,3)\n",
    "g.addEdge(2,4)\n",
    "g.addEdge(2,3)\n",
    "g.addEdge(0,2)\n",
    "g.addEdge(5,6)\n",
    "#g.is_connected()\n",
    "g.connected_components()"
   ]
  },
  {
   "cell_type": "code",
   "execution_count": 146,
   "metadata": {},
   "outputs": [
    {
     "data": {
      "text/plain": [
       "[[0, 1], [2, 3, 4]]"
      ]
     },
     "execution_count": 146,
     "metadata": {},
     "output_type": "execute_result"
    }
   ],
   "source": [
    "g = Graph(5)\n",
    "g.addEdge(4,2)\n",
    "g.addEdge(0,1)\n",
    "g.addEdge(2,3)\n",
    "g.connected_components()"
   ]
  }
 ],
 "metadata": {
  "interpreter": {
   "hash": "1c4eeb78d5e1dc6cb6e62b5bd20620b702dce5b8b8ded6688ef7aad2e1c0d17c"
  },
  "kernelspec": {
   "display_name": "Python 3.9.9 64-bit",
   "language": "python",
   "name": "python3"
  },
  "language_info": {
   "codemirror_mode": {
    "name": "ipython",
    "version": 3
   },
   "file_extension": ".py",
   "mimetype": "text/x-python",
   "name": "python",
   "nbconvert_exporter": "python",
   "pygments_lexer": "ipython3",
   "version": "3.9.9"
  },
  "orig_nbformat": 4
 },
 "nbformat": 4,
 "nbformat_minor": 2
}
