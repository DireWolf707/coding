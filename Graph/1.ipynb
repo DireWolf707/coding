{
 "cells": [
  {
   "cell_type": "code",
   "execution_count": 13,
   "metadata": {},
   "outputs": [],
   "source": [
    "class Graph:\n",
    "    def __init__(self,v):\n",
    "        self.V = v\n",
    "        self.G = [list() for i in range(v)]\n",
    "\n",
    "    def addEdge(self,i,j,undir=True):\n",
    "        self.G[i].append(j)\n",
    "        if undir: self.G[j].append(i)\n",
    "    \n",
    "    def print(self):\n",
    "        for i in range(self.V):\n",
    "            print(i,'-->',end=' ')\n",
    "            for j in self.G[i]:\n",
    "                print(j,end=' ')\n",
    "            print()\n"
   ]
  },
  {
   "cell_type": "code",
   "execution_count": 14,
   "metadata": {},
   "outputs": [
    {
     "name": "stdout",
     "output_type": "stream",
     "text": [
      "0 --> 1 4 \n",
      "1 --> 0 2 \n",
      "2 --> 1 3 \n",
      "3 --> 4 2 \n",
      "4 --> 0 3 5 \n",
      "5 --> 4 \n"
     ]
    }
   ],
   "source": [
    "g = Graph(6)\n",
    "g.addEdge(0,1)\n",
    "g.addEdge(0,4)\n",
    "g.addEdge(2,1)\n",
    "g.addEdge(3,4)\n",
    "g.addEdge(4,5)\n",
    "g.addEdge(2,3)\n",
    "g.print()"
   ]
  },
  {
   "cell_type": "code",
   "execution_count": null,
   "metadata": {},
   "outputs": [],
   "source": [
    "class Node:\n",
    "    def __init__(self,name):\n",
    "        self.name = name\n",
    "        \n",
    "\n",
    "class Graph:\n",
    "    def __init__(self,v):\n",
    "        self.V = v\n",
    "        self.G = [list() for i in range(v)]\n",
    "\n",
    "    def addEdge(self,i,j,undir=True):\n",
    "        self.G[i].append(j)\n",
    "        if undir: self.G[j].append(i)\n",
    "    \n",
    "    def print(self):\n",
    "        for i in range(self.V):\n",
    "            print(i,'-->',end=' ')\n",
    "            for j in self.G[i]:\n",
    "                print(j,end=' ')\n",
    "            print()"
   ]
  }
 ],
 "metadata": {
  "interpreter": {
   "hash": "1c4eeb78d5e1dc6cb6e62b5bd20620b702dce5b8b8ded6688ef7aad2e1c0d17c"
  },
  "kernelspec": {
   "display_name": "Python 3.9.9 64-bit",
   "language": "python",
   "name": "python3"
  },
  "language_info": {
   "codemirror_mode": {
    "name": "ipython",
    "version": 3
   },
   "file_extension": ".py",
   "mimetype": "text/x-python",
   "name": "python",
   "nbconvert_exporter": "python",
   "pygments_lexer": "ipython3",
   "version": "3.9.9"
  },
  "orig_nbformat": 4
 },
 "nbformat": 4,
 "nbformat_minor": 2
}
