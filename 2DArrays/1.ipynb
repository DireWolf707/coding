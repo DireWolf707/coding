{
 "cells": [
  {
   "cell_type": "code",
   "execution_count": 32,
   "metadata": {},
   "outputs": [
    {
     "name": "stdout",
     "output_type": "stream",
     "text": [
      "1 2 3 10 20 30 5 6 7 8 9 4 "
     ]
    }
   ],
   "source": [
    "def spiral_print(arr):\n",
    "    end_row = len(arr) - 1\n",
    "    end_col = len(arr[0]) - 1\n",
    "    start_col = start_row = 0\n",
    "    total_elements = (end_row+1)*(end_col+1)\n",
    "\n",
    "    while (total_elements > 0):\n",
    "        for col in range(start_col,end_col+1):\n",
    "            if total_elements > 0 :\n",
    "                total_elements-=1\n",
    "                print(arr[start_row][col],end=' ')\n",
    "        for row in range(start_row+1,end_row+1):\n",
    "            if total_elements > 0 :\n",
    "                total_elements-=1\n",
    "                print(arr[row][end_col],end=' ')\n",
    "        for col in range(end_col-1,start_col-1,-1): \n",
    "            if total_elements > 0 :\n",
    "                total_elements-=1\n",
    "                print(arr[end_row][col],end=' ')\n",
    "        for row in range(end_row-1,start_row,-1): \n",
    "            if total_elements > 0 :\n",
    "                total_elements-=1\n",
    "                print(arr[row][start_col],end=' ')\n",
    "\n",
    "        start_col+=1; end_col-=1\n",
    "        start_row+=1; end_row-=1\n",
    "        \n",
    "\n",
    "spiral_print([\n",
    "    [1,2,3,10],\n",
    "    [8,9,4,20],\n",
    "    [7,6,5,30],\n",
    "])"
   ]
  },
  {
   "cell_type": "code",
   "execution_count": 33,
   "metadata": {},
   "outputs": [],
   "source": [
    "def BinarySearch2D(arr, v):\n",
    "    max_row = len(arr) - 1\n",
    "    max_col = len(arr[0]) - 1 \n",
    "    r_idx = 0\n",
    "    c_idx = max_col\n",
    "    while r_idx <= max_row and c_idx >= 0:\n",
    "        if arr[r_idx][c_idx] == v:\n",
    "            return [r_idx,c_idx]\n",
    "        elif arr[r_idx][c_idx] < v: r_idx += 1\n",
    "        else: c_idx -= 1\n",
    "    return [-1,-1]"
   ]
  },
  {
   "cell_type": "code",
   "execution_count": 101,
   "metadata": {},
   "outputs": [],
   "source": [
    "class Solution:\n",
    "    def get_area(self,arr,row_start,row_end,col_start,col_end):\n",
    "        area = 0\n",
    "        for r in range(row_start,row_end):\n",
    "            for c in range(col_start,col_end):\n",
    "                area += arr[r][c]\n",
    "        return area\n",
    "        \n",
    "    def mangofarm1(self,arr):\n",
    "        rows = len(arr)\n",
    "        cols = len(arr[0])\n",
    "        my_farm_max = 0\n",
    "\n",
    "        for r in range(rows):\n",
    "            for c in range(cols):\n",
    "                areas = [\n",
    "                    self.get_area(arr,0,r+1,0,c+1),\n",
    "                    self.get_area(arr,r+1,rows,0,c+1),\n",
    "                    self.get_area(arr,0,r+1,c+1,cols),\n",
    "                    self.get_area(arr,r+1,rows,c+1,cols),\n",
    "                ]\n",
    "                my_farm = min(areas)\n",
    "                my_farm_max = max(my_farm_max, my_farm)\n",
    "        print(my_farm_max)\n",
    "\n",
    "    def mangofarm2(self,arr):\n",
    "        rows = len(arr)\n",
    "        cols = len(arr[0])\n",
    "        my_farm_max = 0\n",
    "\n",
    "        prefix = [[0 for i in range(cols+1)] for j in range(rows+1)]\n",
    "        for r in range(1,rows+1):\n",
    "            for c in range(1,cols+1):\n",
    "                prefix[r][c] = arr[r-1][c-1] + prefix[r-1][c] + prefix[r][c-1] - prefix[r-1][c-1]\n",
    "                \n",
    "        for r in range(1,rows+1):\n",
    "            for c in range(1,cols+1):\n",
    "                areas = [\n",
    "                    prefix[r][c],\n",
    "                    prefix[rows][c] - prefix[r][c],\n",
    "                    prefix[r][cols] - prefix[r][c],\n",
    "                    prefix[rows][cols] - (prefix[rows][c] + prefix[r][cols] - prefix[r][c]),\n",
    "                ]\n",
    "                my_farm = min(areas)\n",
    "                my_farm_max = max(my_farm_max, my_farm)\n",
    "        print(my_farm_max)    \n"
   ]
  },
  {
   "cell_type": "code",
   "execution_count": 103,
   "metadata": {},
   "outputs": [
    {
     "name": "stdout",
     "output_type": "stream",
     "text": [
      "3\n",
      "3\n"
     ]
    }
   ],
   "source": [
    "farm = [\n",
    "    [0,1,0,0,0,0],\n",
    "    [0,1,1,0,0,1],\n",
    "    [0,1,0,0,0,0]\n",
    "]\n",
    "farm_c = [\n",
    "    [0,1,1,0,0,0],\n",
    "    [1,0,0,1,1,0],\n",
    "    [0,1,0,0,0,0],\n",
    "    [0,1,1,0,0,1],\n",
    "    [1,0,0,1,1,0],\n",
    "    [0,1,0,0,0,0]\n",
    "]\n",
    "Solution().mangofarm1(farm_c)\n",
    "Solution().mangofarm2(farm_c)"
   ]
  },
  {
   "cell_type": "code",
   "execution_count": null,
   "metadata": {},
   "outputs": [],
   "source": []
  }
 ],
 "metadata": {
  "interpreter": {
   "hash": "2a8431a8e68ef2d76b7193ad360e5695863511544801ded22bf3f46f40f05425"
  },
  "kernelspec": {
   "display_name": "Python 3.9.9 64-bit",
   "language": "python",
   "name": "python3"
  },
  "language_info": {
   "codemirror_mode": {
    "name": "ipython",
    "version": 3
   },
   "file_extension": ".py",
   "mimetype": "text/x-python",
   "name": "python",
   "nbconvert_exporter": "python",
   "pygments_lexer": "ipython3",
   "version": "3.9.9"
  },
  "orig_nbformat": 4
 },
 "nbformat": 4,
 "nbformat_minor": 2
}
