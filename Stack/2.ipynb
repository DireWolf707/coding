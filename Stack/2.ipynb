{
 "cells": [
  {
   "cell_type": "code",
   "execution_count": 7,
   "metadata": {},
   "outputs": [],
   "source": [
    "def balanced_brackets(s):\n",
    "    stack = list()\n",
    "    for i in s:\n",
    "        if i in ('(','{','['):\n",
    "            stack.append(i)\n",
    "        elif i == ')':\n",
    "            if stack and stack[-1] == '(':\n",
    "                stack.pop()\n",
    "            else:\n",
    "                return False\n",
    "        elif i == '}':\n",
    "            if stack and stack[-1] == '{':\n",
    "                stack.pop()\n",
    "            else:\n",
    "                return False\n",
    "        elif i == ']':\n",
    "            if stack and stack[-1] == '[':\n",
    "                stack.pop()\n",
    "            else:\n",
    "                return False\n",
    "    if stack: return False\n",
    "    return True\n"
   ]
  },
  {
   "cell_type": "code",
   "execution_count": 8,
   "metadata": {},
   "outputs": [],
   "source": [
    "def redundant_brackets(s):\n",
    "    stack = list()\n",
    "    for i in s:\n",
    "        if i != ')':\n",
    "            stack.append(i)\n",
    "        else:\n",
    "            operator = False\n",
    "            while stack and stack[-1] != '(':\n",
    "                ch = stack.pop()\n",
    "                if ch in ('/','*','+','-'): operator = True\n",
    "            stack.pop() # removes last \"(\"\n",
    "            if not operator: return True\n",
    "    return False\n"
   ]
  },
  {
   "cell_type": "code",
   "execution_count": 9,
   "metadata": {},
   "outputs": [
    {
     "data": {
      "text/plain": [
       "(False, True)"
      ]
     },
     "execution_count": 9,
     "metadata": {},
     "output_type": "execute_result"
    }
   ],
   "source": [
    "s1='(a+b)'\n",
    "s2='(a+c*b)+(c))'\n",
    "redundant_brackets(s1),redundant_brackets(s2)"
   ]
  }
 ],
 "metadata": {
  "interpreter": {
   "hash": "1c4eeb78d5e1dc6cb6e62b5bd20620b702dce5b8b8ded6688ef7aad2e1c0d17c"
  },
  "kernelspec": {
   "display_name": "Python 3.9.9 64-bit",
   "language": "python",
   "name": "python3"
  },
  "language_info": {
   "codemirror_mode": {
    "name": "ipython",
    "version": 3
   },
   "file_extension": ".py",
   "mimetype": "text/x-python",
   "name": "python",
   "nbconvert_exporter": "python",
   "pygments_lexer": "ipython3",
   "version": "3.9.9"
  },
  "orig_nbformat": 4
 },
 "nbformat": 4,
 "nbformat_minor": 2
}
