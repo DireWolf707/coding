{
 "cells": [
  {
   "cell_type": "code",
   "execution_count": 12,
   "metadata": {},
   "outputs": [],
   "source": [
    "class Node:\n",
    "    def __init__(self, d=None, n=None):\n",
    "        self.data = d\n",
    "        self.next = n\n",
    "\n",
    "class Stack:\n",
    "    head = None\n",
    "\n",
    "    def push(self,d):\n",
    "        node = Node(d,self.head)\n",
    "        self.head = node\n",
    "    \n",
    "    def is_empty(self):\n",
    "        return self.head == None\n",
    "    \n",
    "    def top(self):\n",
    "        if not self.is_empty():\n",
    "            return self.head.data\n",
    "        return None\n",
    "    \n",
    "    def pop(self):\n",
    "        if not self.is_empty():\n",
    "            temp = self.head.data\n",
    "            self.head = self.head.next\n",
    "            return temp\n",
    "        return None\n",
    "\n"
   ]
  },
  {
   "cell_type": "code",
   "execution_count": 13,
   "metadata": {},
   "outputs": [
    {
     "name": "stdout",
     "output_type": "stream",
     "text": [
      "6 5 4 3 2 1 None None "
     ]
    }
   ],
   "source": [
    "s = Stack()\n",
    "for i in range(6):\n",
    "    s.push(i+1)\n",
    "for i in range(8):\n",
    "    print(s.pop(),end=' ')"
   ]
  },
  {
   "cell_type": "code",
   "execution_count": 43,
   "metadata": {},
   "outputs": [],
   "source": [
    "class Stack:\n",
    "    def __init__(self):\n",
    "        self.arr = list()\n",
    "    \n",
    "    def push(self,d):\n",
    "        self.arr.append(d)\n",
    "    \n",
    "    def is_empty(self):\n",
    "        return self.arr == []\n",
    "    \n",
    "    def top(self):\n",
    "        if not self.is_empty():\n",
    "            return self.arr[-1]\n",
    "        return None\n",
    "    \n",
    "    def pop(self):\n",
    "        if not self.is_empty():\n",
    "            return self.arr.pop()\n",
    "        return None\n",
    "\n",
    "    #recursive\n",
    "    def insert_bottom(self,d):\n",
    "        def helper_fxn(arr,d):\n",
    "            if arr == []:\n",
    "                arr.append(d)\n",
    "                return\n",
    "            temp = arr.pop()\n",
    "            helper_fxn(arr,d)\n",
    "            arr.append(temp)\n",
    "        helper_fxn(self.arr,d)\n",
    "\n",
    "    def reverse(self):\n",
    "        def helper_fxn(arr):\n",
    "            if arr == []:\n",
    "                return\n",
    "            temp = arr.pop()\n",
    "            helper_fxn(arr)\n",
    "            self.insert_bottom(temp)\n",
    "        helper_fxn(self.arr)"
   ]
  },
  {
   "cell_type": "code",
   "execution_count": 44,
   "metadata": {},
   "outputs": [
    {
     "name": "stdout",
     "output_type": "stream",
     "text": [
      "6 5 4 3 2 1 None "
     ]
    }
   ],
   "source": [
    "s = Stack()\n",
    "for i in range(6):\n",
    "    s.push(i+1)\n",
    "for i in range(7):\n",
    "    print(s.pop(),end=' ')"
   ]
  },
  {
   "cell_type": "code",
   "execution_count": 45,
   "metadata": {},
   "outputs": [
    {
     "name": "stdout",
     "output_type": "stream",
     "text": [
      "6 5 4 3 2 1 100 None None None "
     ]
    }
   ],
   "source": [
    "s = Stack()\n",
    "for i in range(6):\n",
    "    s.push(i+1)\n",
    "s.insert_bottom(100)\n",
    "for i in range(10):\n",
    "    print(s.pop(),end=' ')"
   ]
  },
  {
   "cell_type": "code",
   "execution_count": 47,
   "metadata": {},
   "outputs": [
    {
     "name": "stdout",
     "output_type": "stream",
     "text": [
      "1 2 3 4 5 6 None "
     ]
    }
   ],
   "source": [
    "s = Stack()\n",
    "for i in range(6):\n",
    "    s.push(i+1)\n",
    "s.reverse()\n",
    "for i in range(7):\n",
    "    print(s.pop(),end=' ')"
   ]
  },
  {
   "cell_type": "code",
   "execution_count": 50,
   "metadata": {},
   "outputs": [
    {
     "name": "stdout",
     "output_type": "stream",
     "text": [
      "[1, 1, 1, 2, 1, 4, 7]\n"
     ]
    }
   ],
   "source": [
    "def stock_span(prices):\n",
    "    # stack for storing index and prices\n",
    "    s = Stack()\n",
    "    # for storing spans\n",
    "    spans = list()\n",
    "    # loop on all prices\n",
    "    for idx in range(len(prices)):\n",
    "        # pop until top exists and is top price is greater than curr price\n",
    "        while s.top() and s.top()[1] <= prices[idx]:\n",
    "            s.pop()\n",
    "        # curr span is curr index - top index if top exists, else curr index + 1 (for first element in empty stack or after stack ever got all popped out)\n",
    "        curr_span = idx - s.top()[0] if s.top() else idx + 1\n",
    "        # append calculated curr span in list\n",
    "        spans.append(curr_span)\n",
    "        # push current stock price into stack\n",
    "        s.push([idx, prices[idx]])\n",
    "    print(spans)\n",
    "\n",
    "prices = [100,80,60,70,60,75,185]\n",
    "stock_span(prices)\n"
   ]
  }
 ],
 "metadata": {
  "interpreter": {
   "hash": "2a8431a8e68ef2d76b7193ad360e5695863511544801ded22bf3f46f40f05425"
  },
  "kernelspec": {
   "display_name": "Python 3.9.9 64-bit",
   "language": "python",
   "name": "python3"
  },
  "language_info": {
   "codemirror_mode": {
    "name": "ipython",
    "version": 3
   },
   "file_extension": ".py",
   "mimetype": "text/x-python",
   "name": "python",
   "nbconvert_exporter": "python",
   "pygments_lexer": "ipython3",
   "version": "3.9.9"
  },
  "orig_nbformat": 4
 },
 "nbformat": 4,
 "nbformat_minor": 2
}
