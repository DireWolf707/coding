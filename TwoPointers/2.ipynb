{
 "cells": [
  {
   "cell_type": "code",
   "execution_count": 64,
   "metadata": {},
   "outputs": [],
   "source": [
    "# bruteforce => O(n2)\n",
    "def housing1(arr,k):\n",
    "    l = len(arr)\n",
    "    ans = list()\n",
    "    for i in range(l):\n",
    "        curr = 0\n",
    "        for j in range(i,l):\n",
    "            curr += arr[j]\n",
    "            if curr == k: \n",
    "                ans.append([i,j])\n",
    "    return ans\n",
    "\n",
    "# prefix => O(n2)\n",
    "def housing2(arr,k):\n",
    "    l = len(arr)\n",
    "\n",
    "    prefix = list()\n",
    "    prefix.append(0)\n",
    "    for i in range(l):\n",
    "        prefix.append( prefix[i] + arr[i] )\n",
    "\n",
    "    ans = list()\n",
    "    for i in range(l):\n",
    "        for j in range(i,l):\n",
    "            curr = prefix[j+1] - prefix[i]\n",
    "            if curr == k: \n",
    "                ans.append([i,j])\n",
    "    return ans\n",
    "\n",
    "# prefix + binary search => O(n + nlogn) => O(nlogn)\n",
    "def housing3(arr,k):\n",
    "    l = len(arr)\n",
    "\n",
    "    prefix = list()\n",
    "    prefix.append(0)\n",
    "    for i in range(l):\n",
    "        prefix.append( prefix[i] + arr[i] )\n",
    "\n",
    "    ans = list()\n",
    "    for i in range(l):\n",
    "        target = prefix[i] + k # prefix[j+1] - prefix[i] = k => prefix[j+1] = k + prefix[i]\n",
    "        s = i+1\n",
    "        e = l\n",
    "        while s<=e:\n",
    "            m = (s+e)//2\n",
    "            if prefix[m] == target:\n",
    "                ans.append([i,m-1]) # prefix[j+1] = prefix[m] => j = m-1\n",
    "                break\n",
    "            elif prefix[m] < target:\n",
    "                s = m+1\n",
    "            else:\n",
    "                e = m-1\n",
    "    return ans\n",
    "\n",
    "# sliding window => O(n)\n",
    "def housing4(arr,k):\n",
    "    l = len(arr)\n",
    "    ans = list()\n",
    "    f = 0\n",
    "    e = 0\n",
    "    curr = arr[f]\n",
    "    while f >= e and f < l:\n",
    "        if curr == k:\n",
    "            ans.append([f,e])\n",
    "        elif curr < k:\n",
    "            f += 1\n",
    "            if f < l:\n",
    "                curr += arr[f] \n",
    "        else:\n",
    "            curr -= arr[e]\n",
    "            e += 1\n",
    "\n",
    "    return ans"
   ]
  },
  {
   "cell_type": "code",
   "execution_count": 65,
   "metadata": {},
   "outputs": [
    {
     "ename": "KeyboardInterrupt",
     "evalue": "",
     "output_type": "error",
     "traceback": [
      "\u001b[1;31m---------------------------------------------------------------------------\u001b[0m",
      "\u001b[1;31mKeyboardInterrupt\u001b[0m                         Traceback (most recent call last)",
      "\u001b[1;32m~\\AppData\\Local\\Temp/ipykernel_31104/2466076672.py\u001b[0m in \u001b[0;36m<module>\u001b[1;34m\u001b[0m\n\u001b[0;32m      1\u001b[0m \u001b[0mhouses\u001b[0m \u001b[1;33m=\u001b[0m \u001b[1;33m[\u001b[0m\u001b[1;36m1\u001b[0m\u001b[1;33m,\u001b[0m\u001b[1;36m3\u001b[0m\u001b[1;33m,\u001b[0m\u001b[1;36m2\u001b[0m\u001b[1;33m,\u001b[0m\u001b[1;36m1\u001b[0m\u001b[1;33m,\u001b[0m\u001b[1;36m4\u001b[0m\u001b[1;33m,\u001b[0m\u001b[1;36m1\u001b[0m\u001b[1;33m,\u001b[0m\u001b[1;36m3\u001b[0m\u001b[1;33m,\u001b[0m\u001b[1;36m2\u001b[0m\u001b[1;33m,\u001b[0m\u001b[1;36m1\u001b[0m\u001b[1;33m,\u001b[0m\u001b[1;36m1\u001b[0m\u001b[1;33m,\u001b[0m\u001b[1;36m2\u001b[0m\u001b[1;33m]\u001b[0m\u001b[1;33m\u001b[0m\u001b[1;33m\u001b[0m\u001b[0m\n\u001b[1;32m----> 2\u001b[1;33m \u001b[0mhousing4\u001b[0m\u001b[1;33m(\u001b[0m\u001b[0mhouses\u001b[0m\u001b[1;33m,\u001b[0m\u001b[1;36m8\u001b[0m\u001b[1;33m)\u001b[0m\u001b[1;33m\u001b[0m\u001b[1;33m\u001b[0m\u001b[0m\n\u001b[0m",
      "\u001b[1;32m~\\AppData\\Local\\Temp/ipykernel_31104/2763108193.py\u001b[0m in \u001b[0;36mhousing4\u001b[1;34m(arr, k)\u001b[0m\n\u001b[0;32m     62\u001b[0m     \u001b[1;32mwhile\u001b[0m \u001b[0mf\u001b[0m \u001b[1;33m>=\u001b[0m \u001b[0me\u001b[0m \u001b[1;32mand\u001b[0m \u001b[0mf\u001b[0m \u001b[1;33m<\u001b[0m \u001b[0ml\u001b[0m\u001b[1;33m:\u001b[0m\u001b[1;33m\u001b[0m\u001b[1;33m\u001b[0m\u001b[0m\n\u001b[0;32m     63\u001b[0m         \u001b[1;32mif\u001b[0m \u001b[0mcurr\u001b[0m \u001b[1;33m==\u001b[0m \u001b[0mk\u001b[0m\u001b[1;33m:\u001b[0m\u001b[1;33m\u001b[0m\u001b[1;33m\u001b[0m\u001b[0m\n\u001b[1;32m---> 64\u001b[1;33m             \u001b[0mans\u001b[0m\u001b[1;33m.\u001b[0m\u001b[0mappend\u001b[0m\u001b[1;33m(\u001b[0m\u001b[1;33m[\u001b[0m\u001b[0mf\u001b[0m\u001b[1;33m,\u001b[0m\u001b[0me\u001b[0m\u001b[1;33m]\u001b[0m\u001b[1;33m)\u001b[0m\u001b[1;33m\u001b[0m\u001b[1;33m\u001b[0m\u001b[0m\n\u001b[0m\u001b[0;32m     65\u001b[0m         \u001b[1;32melif\u001b[0m \u001b[0mcurr\u001b[0m \u001b[1;33m<\u001b[0m \u001b[0mk\u001b[0m\u001b[1;33m:\u001b[0m\u001b[1;33m\u001b[0m\u001b[1;33m\u001b[0m\u001b[0m\n\u001b[0;32m     66\u001b[0m             \u001b[0mf\u001b[0m \u001b[1;33m+=\u001b[0m \u001b[1;36m1\u001b[0m\u001b[1;33m\u001b[0m\u001b[1;33m\u001b[0m\u001b[0m\n",
      "\u001b[1;31mKeyboardInterrupt\u001b[0m: "
     ]
    }
   ],
   "source": [
    "houses = [1,3,2,1,4,1,3,2,1,1,2]\n",
    "housing4(houses,8)"
   ]
  },
  {
   "cell_type": "code",
   "execution_count": null,
   "metadata": {},
   "outputs": [],
   "source": []
  }
 ],
 "metadata": {
  "interpreter": {
   "hash": "1c4eeb78d5e1dc6cb6e62b5bd20620b702dce5b8b8ded6688ef7aad2e1c0d17c"
  },
  "kernelspec": {
   "display_name": "Python 3.9.9 64-bit",
   "language": "python",
   "name": "python3"
  },
  "language_info": {
   "codemirror_mode": {
    "name": "ipython",
    "version": 3
   },
   "file_extension": ".py",
   "mimetype": "text/x-python",
   "name": "python",
   "nbconvert_exporter": "python",
   "pygments_lexer": "ipython3",
   "version": "3.9.9"
  },
  "orig_nbformat": 4
 },
 "nbformat": 4,
 "nbformat_minor": 2
}
