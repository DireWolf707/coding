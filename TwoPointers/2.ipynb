{
 "cells": [
  {
   "cell_type": "code",
   "execution_count": 9,
   "metadata": {},
   "outputs": [],
   "source": [
    "# bruteforce => O(n2)\n",
    "def housing1(arr,k):\n",
    "    l = len(arr)\n",
    "    ans = list()\n",
    "    for i in range(l):\n",
    "        curr = 0\n",
    "        for j in range(i,l):\n",
    "            curr += arr[j]\n",
    "            if curr == k: \n",
    "                ans.append([i,j])\n",
    "    return ans\n",
    "\n",
    "# prefix => O(n2)\n",
    "def housing2(arr,k):\n",
    "    l = len(arr)\n",
    "\n",
    "    prefix = list()\n",
    "    prefix.append(0)\n",
    "    for i in range(l):\n",
    "        prefix.append( prefix[i] + arr[i] )\n",
    "\n",
    "    ans = list()\n",
    "    for i in range(l):\n",
    "        for j in range(i,l):\n",
    "            curr = prefix[j+1] - prefix[i]\n",
    "            if curr == k: \n",
    "                ans.append([i,j])\n",
    "    return ans\n",
    "\n",
    "# prefix + binary search => O(n + nlogn) => O(nlogn)\n",
    "def housing3(arr,k):\n",
    "    l = len(arr)\n",
    "\n",
    "    prefix = list()\n",
    "    prefix.append(0)\n",
    "    for i in range(l):\n",
    "        prefix.append( prefix[i] + arr[i] )\n",
    "\n",
    "    ans = list()\n",
    "    for i in range(l):\n",
    "        target = prefix[i] + k # prefix[j+1] - prefix[i] = k => prefix[j+1] = k + prefix[i]\n",
    "        s = i+1\n",
    "        e = l\n",
    "        while s<=e:\n",
    "            m = (s+e)//2\n",
    "            if prefix[m] == target:\n",
    "                ans.append([i,m-1]) # prefix[j+1] = prefix[m] => j = m-1\n",
    "                break\n",
    "            elif prefix[m] < target:\n",
    "                s = m+1\n",
    "            else:\n",
    "                e = m-1\n",
    "    return ans\n",
    "\n",
    "# sliding window => O(n)\n",
    "def housing4(arr,k):\n",
    "    l = len(arr)\n",
    "    ans = list()\n",
    "    f = 0\n",
    "    e = 0\n",
    "    # add first ele to curr\n",
    "    curr = arr[f]\n",
    "    # until window is of some +ve size or front dont reach end of arr\n",
    "    while f < l:\n",
    "        # if curr is == k, then increase both front and end\n",
    "        if curr == k:\n",
    "            ans.append([e,f])\n",
    "            f+=1\n",
    "            if f < l:\n",
    "                curr += arr[f]\n",
    "            curr -= arr[e]\n",
    "            e += 1\n",
    "        # if curr is < k, then increase window sum by expanding\n",
    "        elif curr < k:\n",
    "            f += 1\n",
    "            if f < l:\n",
    "                curr += arr[f] \n",
    "         # if curr is > k, then decrease window sum by contracting\n",
    "        else:\n",
    "            curr -= arr[e]\n",
    "            e += 1\n",
    "\n",
    "    return ans\n",
    "\n",
    "# sliding window => O(n)\n",
    "def housing5(arr,k):\n",
    "    l = len(arr)\n",
    "    ans = list()\n",
    "    f = 0\n",
    "    e = 0\n",
    "    curr = 0\n",
    "    while f < l:\n",
    "        # expand to right\n",
    "        curr += arr[f]\n",
    "        f += 1\n",
    "        # contract till curr is greater than k\n",
    "        while curr > k and e < f:\n",
    "            curr -= arr[e]\n",
    "            e += 1\n",
    "        \n",
    "        if curr == k:\n",
    "            ans.append([e,f-1])\n",
    "\n",
    "    return ans"
   ]
  },
  {
   "cell_type": "code",
   "execution_count": 10,
   "metadata": {},
   "outputs": [
    {
     "data": {
      "text/plain": [
       "[[2, 5], [4, 6], [5, 9]]"
      ]
     },
     "execution_count": 10,
     "metadata": {},
     "output_type": "execute_result"
    }
   ],
   "source": [
    "houses = [1,3,2,1,4,1,3,2,1,1,2]\n",
    "housing4(houses,8)"
   ]
  },
  {
   "cell_type": "code",
   "execution_count": 114,
   "metadata": {},
   "outputs": [],
   "source": [
    "def unique_substring(s):\n",
    "    l = len(s)\n",
    "    f = 0\n",
    "    e = 0\n",
    "    hash = dict()\n",
    "    max_len = 0\n",
    "    ans = [-1,-1]\n",
    "    while f < l:\n",
    "        # if exist then contract till not exist\n",
    "        if s[f] in hash:\n",
    "            i = hash[s[f]] # save it as it will get checked (at termination check) after deleted in while loop\n",
    "            while e <= i:\n",
    "                del hash[s[e]]\n",
    "                e += 1    \n",
    "        # include in hash if not found or after cleaning up previous substring\n",
    "        hash[s[f]] = f\n",
    "        # update max after every iteration\n",
    "        curr_len = f-e+1\n",
    "        if curr_len > max_len:\n",
    "            max_len = curr_len\n",
    "            ans = [e,f+1]\n",
    "        # expand window\n",
    "        f += 1\n",
    "    return s[ans[0]:ans[1]]\n"
   ]
  },
  {
   "cell_type": "code",
   "execution_count": 115,
   "metadata": {},
   "outputs": [
    {
     "data": {
      "text/plain": [
       "'ekbhaiy'"
      ]
     },
     "execution_count": 115,
     "metadata": {},
     "output_type": "execute_result"
    }
   ],
   "source": [
    "unique_substring('ekbhaiya')"
   ]
  },
  {
   "cell_type": "code",
   "execution_count": 156,
   "metadata": {},
   "outputs": [],
   "source": [
    "def compare_hash(h1,h2):\n",
    "    for key in h2:\n",
    "        if key in h1 and h1[key] >= h2[key]:\n",
    "            continue\n",
    "        else:\n",
    "            return False\n",
    "    return True\n",
    "\n",
    "def string_window(s1, s2):\n",
    "    l = len(s1)\n",
    "    target_hash = dict()\n",
    "    for ch in s2:\n",
    "        target_hash[ch] = target_hash.get(ch, 0) + 1\n",
    "\n",
    "    e = 0\n",
    "    f = 0\n",
    "    curr_hash = dict()\n",
    "    min_len = float('inf')\n",
    "    ans = [-1,-1]\n",
    "\n",
    "    while f < l:\n",
    "        curr_hash[s1[f]] = curr_hash.get(s1[f], 0) + 1\n",
    "        if compare_hash(curr_hash, target_hash):\n",
    "            # loop until compare hash give false and window exists\n",
    "            while e <= f and compare_hash(curr_hash, target_hash):\n",
    "                curr_hash[s1[e]] -= 1\n",
    "                e += 1\n",
    "            # reset last wrong move\n",
    "            e -= 1\n",
    "            curr_hash[s1[e]] += 1\n",
    "            # update min answer\n",
    "            curr_len = f-e+1\n",
    "            if curr_len < min_len:\n",
    "                min_len = curr_len\n",
    "                ans = [e,f+1]\n",
    "        f += 1\n",
    "    return s1[ans[0]:ans[1]]\n"
   ]
  },
  {
   "cell_type": "code",
   "execution_count": 157,
   "metadata": {},
   "outputs": [
    {
     "data": {
      "text/plain": [
       "'loe'"
      ]
     },
     "execution_count": 157,
     "metadata": {},
     "output_type": "execute_result"
    }
   ],
   "source": [
    "s1 = 'helloe'\n",
    "s2 = 'loe'\n",
    "string_window(s1, s2)"
   ]
  },
  {
   "cell_type": "code",
   "execution_count": null,
   "metadata": {},
   "outputs": [],
   "source": [
    "def compare_hash(h1,h2):\n",
    "    for key in h2:\n",
    "        if key in h1 and h1[key] >= h2[key]:\n",
    "            continue\n",
    "        else:\n",
    "            return False\n",
    "    return True\n",
    "\n",
    "def excat_equal(h1,h2):\n",
    "    for key in h2:\n",
    "        if key in h1 and h1[key] == h2[key]:\n",
    "            continue\n",
    "        else:\n",
    "            return False\n",
    "    return True\n",
    "\n",
    "def checkPermutationInclusion(self, s1: str, s2: str) -> bool:\n",
    "    target_hash = dict()\n",
    "    for ch in s1:\n",
    "        target_hash[ch] = target_hash.get(ch,0) + 1\n",
    "    f = 0\n",
    "    e = 0\n",
    "    l = len(s2)\n",
    "    curr_hash = dict()\n",
    "    while f < l:\n",
    "        while not compare_hash(curr_hash, target_hash):\n",
    "            curr_hash[s2[f]] = curr_hash.get(s2[f], 0) + 1\n",
    "            f += 1\n",
    "\n",
    "        while e < f and not excat_equal(curr_hash, target_hash):\n",
    "            curr_hash[s2[f]] -= 1\n",
    "            e -= 1\n",
    "        \n",
    "        if excat_equal(curr_hash, target_hash):\n",
    "            return True\n",
    "\n",
    "        "
   ]
  }
 ],
 "metadata": {
  "interpreter": {
   "hash": "1c4eeb78d5e1dc6cb6e62b5bd20620b702dce5b8b8ded6688ef7aad2e1c0d17c"
  },
  "kernelspec": {
   "display_name": "Python 3.9.9 64-bit",
   "language": "python",
   "name": "python3"
  },
  "language_info": {
   "codemirror_mode": {
    "name": "ipython",
    "version": 3
   },
   "file_extension": ".py",
   "mimetype": "text/x-python",
   "name": "python",
   "nbconvert_exporter": "python",
   "pygments_lexer": "ipython3",
   "version": "3.9.9"
  },
  "orig_nbformat": 4
 },
 "nbformat": 4,
 "nbformat_minor": 2
}
