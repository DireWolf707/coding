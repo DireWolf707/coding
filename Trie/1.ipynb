{
 "cells": [
  {
   "cell_type": "code",
   "execution_count": 5,
   "metadata": {},
   "outputs": [],
   "source": [
    "class Node:\n",
    "    def __init__(self, data, isTerminal = False):\n",
    "        self.data = data\n",
    "        self.isTerminal = isTerminal\n",
    "        self.children = dict()\n",
    "\n",
    "class Trie:\n",
    "    def __init__(self):\n",
    "        self.root = Node(None)\n",
    "    \n",
    "    def insert(self, word):\n",
    "        temp = self.root\n",
    "        for ch in word:\n",
    "            node = temp.children.get(ch)\n",
    "            if not node:\n",
    "                # create new node\n",
    "                node = Node(ch)\n",
    "                # make it children of current node\n",
    "                temp.children[ch] = node\n",
    "            # iterate to new node\n",
    "            temp = node\n",
    "        temp.isTerminal = True\n",
    "\n",
    "    def search(self, word):\n",
    "        temp = self.root\n",
    "        for ch in word:\n",
    "            node = temp.children.get(ch)\n",
    "            if not node:\n",
    "                return False\n",
    "            temp = node\n",
    "        return temp.isTerminal\n"
   ]
  },
  {
   "cell_type": "code",
   "execution_count": 12,
   "metadata": {},
   "outputs": [
    {
     "name": "stdout",
     "output_type": "stream",
     "text": [
      "True\n",
      "True\n",
      "True\n",
      "True\n",
      "False\n",
      "False\n",
      "False\n",
      "False\n",
      "True\n"
     ]
    }
   ],
   "source": [
    "t = Trie()\n",
    "words = ['abc','apple','heap','mango']\n",
    "queries = ['abc','apple','heap','mango','ab','ape','hep','ango','mango']\n",
    "for w in words:\n",
    "    t.insert(w)\n",
    "for w in queries:\n",
    "    print(t.search(w))"
   ]
  },
  {
   "cell_type": "code",
   "execution_count": null,
   "metadata": {},
   "outputs": [],
   "source": []
  }
 ],
 "metadata": {
  "interpreter": {
   "hash": "2a8431a8e68ef2d76b7193ad360e5695863511544801ded22bf3f46f40f05425"
  },
  "kernelspec": {
   "display_name": "Python 3.9.9 64-bit",
   "language": "python",
   "name": "python3"
  },
  "language_info": {
   "codemirror_mode": {
    "name": "ipython",
    "version": 3
   },
   "file_extension": ".py",
   "mimetype": "text/x-python",
   "name": "python",
   "nbconvert_exporter": "python",
   "pygments_lexer": "ipython3",
   "version": "3.9.9"
  },
  "orig_nbformat": 4
 },
 "nbformat": 4,
 "nbformat_minor": 2
}
