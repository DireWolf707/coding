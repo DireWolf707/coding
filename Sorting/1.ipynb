{
 "cells": [
  {
   "cell_type": "code",
   "execution_count": 12,
   "metadata": {},
   "outputs": [
    {
     "name": "stdout",
     "output_type": "stream",
     "text": [
      "[1, 2, 3, 4, 5, 6]\n"
     ]
    }
   ],
   "source": [
    "def bubble_sort(arr):\n",
    "    l = len(arr)\n",
    "    for i in range(l-1):\n",
    "        swapped = False\n",
    "        for j in range(1,l-i):\n",
    "            if arr[j-1] > arr[j]:\n",
    "                swapped = True\n",
    "                arr[j-1],arr[j] = arr[j],arr[j-1]\n",
    "        if not swapped: break\n",
    "    print(arr)\n",
    "array = [5,4,3,2,1,6]\n",
    "bubble_sort(array)"
   ]
  },
  {
   "cell_type": "code",
   "execution_count": 17,
   "metadata": {},
   "outputs": [
    {
     "name": "stdout",
     "output_type": "stream",
     "text": [
      "[1, 2, 3, 4, 5, 6]\n"
     ]
    }
   ],
   "source": [
    "def insertion_sort(arr):\n",
    "    l = len(arr)\n",
    "    for i in range(1,l):\n",
    "        curr = arr[i]\n",
    "        j = i - 1\n",
    "        while j >= 0 and curr < arr[j] :\n",
    "            arr[j+1] = arr[j]\n",
    "            j -= 1\n",
    "        arr[j+1] = curr\n",
    "\n",
    "    print(arr)\n",
    "array = [5,4,3,2,1,6]\n",
    "insertion_sort(array)"
   ]
  },
  {
   "cell_type": "code",
   "execution_count": 28,
   "metadata": {},
   "outputs": [
    {
     "name": "stdout",
     "output_type": "stream",
     "text": [
      "[1, 2, 3, 4, 5]\n"
     ]
    }
   ],
   "source": [
    "def selection_sort(arr):\n",
    "    l = len(arr)\n",
    "    for i in range(l-1):\n",
    "        cm = i\n",
    "        for j in range(i+1,l):\n",
    "            if arr[j] < arr[cm]: cm = j  \n",
    "        arr[i],arr[cm] = arr[cm],arr[i]\n",
    "    print(arr)\n",
    "\n",
    "array = [5,4,3,2,1]\n",
    "selection_sort(array)"
   ]
  },
  {
   "cell_type": "code",
   "execution_count": 1,
   "metadata": {},
   "outputs": [
    {
     "name": "stdout",
     "output_type": "stream",
     "text": [
      "[1, 1, 2, 2, 2, 3, 3, 4, 8, 9]\n"
     ]
    }
   ],
   "source": [
    "# array contains a range of number, repeated or missing\n",
    "def count_sort(arr):\n",
    "    l = len(arr)\n",
    "    # finding range(s,e) of elements\n",
    "    s = float('inf')\n",
    "    e = float('-inf')\n",
    "    for i in range(l):\n",
    "        s = min(s,arr[i])\n",
    "        e = max(e,arr[i])\n",
    "    # creating blank freq array acc to range found\n",
    "    range_size = e-s+1\n",
    "    freq = [0 for i in range(range_size)]\n",
    "    for i in range(l):\n",
    "        # sub s to start idx from 0\n",
    "        freq[arr[i]-s] += 1\n",
    "    # loop on freq array\n",
    "    k = 0\n",
    "    for i in range(range_size):\n",
    "        # loop on freq value\n",
    "        for _ in range(freq[i]):\n",
    "            # add same value freq valu times\n",
    "            arr[k] = (s+i)\n",
    "            # k will always be under range as freq table is made from original\n",
    "            k+=1\n",
    "    print(arr)\n",
    "\n",
    "array = [2,8,4,1,1,2,3,2,3,9]\n",
    "count_sort(array)"
   ]
  },
  {
   "cell_type": "code",
   "execution_count": 19,
   "metadata": {},
   "outputs": [],
   "source": [
    "# merging two sorted array (s,e)\n",
    "def merge(arr,s,m,e):\n",
    "    # start of first part\n",
    "    i = s\n",
    "    # start of second part\n",
    "    j = m+1\n",
    "    # temp list\n",
    "    lst = list()\n",
    "    # while any of the part exists\n",
    "    while i <= m and j <= e:\n",
    "        if arr[i] <= arr[j]:\n",
    "            lst.append(arr[i])\n",
    "            i += 1\n",
    "        else:\n",
    "            lst.append(arr[j])\n",
    "            j += 1\n",
    "    # empty first part for leftovers\n",
    "    while i <= m:\n",
    "        lst.append(arr[i])\n",
    "        i += 1\n",
    "    # empty second part for leftovers\n",
    "    while j <= e:\n",
    "        lst.append(arr[j])\n",
    "        j += 1\n",
    "    # replace part of original list with the temp list we were working on\n",
    "    arr[s:e+1] = lst\n",
    "\n",
    "def merge_sort(arr,s,e):\n",
    "    if s>=e: return\n",
    "    m = (s+e)//2\n",
    "    # sort left array\n",
    "    merge_sort(arr,s,m)\n",
    "    # sort right array\n",
    "    merge_sort(arr,m+1,e)\n",
    "    # merge both arrays\n",
    "    merge(arr,s,m,e)"
   ]
  },
  {
   "cell_type": "code",
   "execution_count": 23,
   "metadata": {},
   "outputs": [
    {
     "data": {
      "text/plain": [
       "[1, 2, 3, 4, 5, 6]"
      ]
     },
     "execution_count": 23,
     "metadata": {},
     "output_type": "execute_result"
    }
   ],
   "source": [
    "arr = [1,4,5,2,3,6]\n",
    "merge_sort(arr,0,len(arr)-1)\n",
    "arr"
   ]
  },
  {
   "cell_type": "code",
   "execution_count": 5,
   "metadata": {},
   "outputs": [
    {
     "data": {
      "text/plain": [
       "[1, 2, 3, 4, 4, 5, 6]"
      ]
     },
     "execution_count": 5,
     "metadata": {},
     "output_type": "execute_result"
    }
   ],
   "source": [
    "def partition(arr,s,e):\n",
    "    # i -> ending of lesser array\n",
    "    i = s - 1\n",
    "    # pivot value\n",
    "    pivot = arr[e]\n",
    "    # j -> ending of greater array\n",
    "    for j in range(s,e): # e exculded\n",
    "        # if j points to ele greater than pivot then include it in greater array by just iterating to next j\n",
    "        \n",
    "        # if j points to ele lesser than equal to pivot then incluse it in lesser array by adding it next to last of lesser array\n",
    "        if arr[j] <= pivot:\n",
    "            i+=1\n",
    "            arr[i],arr[j] = arr[j],arr[i]\n",
    "    # atlast swap pivot ele with starting element of greater array (or next to end of lesser array)\n",
    "    arr[i+1],arr[e] = arr[e],arr[i+1]\n",
    "    return i+1    \n",
    "\n",
    "def  quick_sort(arr,s,e):\n",
    "    if s>=e: return\n",
    "    # partition array and find pivot index\n",
    "    p_idx = partition(arr,s,e)\n",
    "    # sort left of pivot index\n",
    "    quick_sort(arr,s,p_idx-1)\n",
    "    # sort right of pivot index\n",
    "    quick_sort(arr,p_idx+1,e)\n",
    "\n",
    "arr = [1,4,5,2,3,6,4]\n",
    "quick_sort(arr,0,len(arr)-1)\n",
    "arr"
   ]
  },
  {
   "cell_type": "code",
   "execution_count": 2,
   "metadata": {},
   "outputs": [],
   "source": [
    "def between_inversion_count_and_sort(arr,s,m,e):\n",
    "    i = s\n",
    "    j = m+1\n",
    "    count = 0\n",
    "    temp = list()\n",
    "\n",
    "    while i <= m and j <= e:\n",
    "        if arr[i] <= arr[j]:\n",
    "            temp.append(arr[i])\n",
    "            i += 1\n",
    "        else:\n",
    "            count += (m-i+1)\n",
    "            temp.append(arr[j])\n",
    "            j += 1\n",
    "\n",
    "    while i <= m:\n",
    "        temp.append(arr[i])\n",
    "        i += 1\n",
    "\n",
    "    while j <= e:\n",
    "        temp.append(arr[j])\n",
    "        j += 1\n",
    "\n",
    "    arr[s:e+1] = temp\n",
    "    return count\n",
    "\n",
    "def inversion_count(arr,s,e):\n",
    "    if s >= e :\n",
    "        return 0\n",
    "    m = (s+e)//2\n",
    "    left_inversion = inversion_count(arr,s,m)\n",
    "    right_inversion = inversion_count(arr,m+1,e)\n",
    "    between_inversion = between_inversion_count_and_sort(arr,s,m,e)\n",
    "    return left_inversion + right_inversion + between_inversion\n"
   ]
  },
  {
   "cell_type": "code",
   "execution_count": 3,
   "metadata": {},
   "outputs": [
    {
     "data": {
      "text/plain": [
       "5"
      ]
     },
     "execution_count": 3,
     "metadata": {},
     "output_type": "execute_result"
    }
   ],
   "source": [
    "arr = [0,5,2,3,1]\n",
    "inversion_count(arr,0,len(arr)-1)"
   ]
  },
  {
   "cell_type": "code",
   "execution_count": 52,
   "metadata": {},
   "outputs": [],
   "source": [
    "def partition(arr,s,e):\n",
    "    i = s - 1\n",
    "    pivot = arr[e]\n",
    "    for j in range(s,e):\n",
    "        # for kth smallest make it >=\n",
    "        if arr[j] <= pivot:\n",
    "            i+=1\n",
    "            arr[i],arr[j] = arr[j],arr[i]\n",
    "    arr[i+1],arr[e] = arr[e],arr[i+1]\n",
    "    return i+1    \n",
    "\n",
    "def kth_smallest(arr,k,s,e):\n",
    "    if s > e:\n",
    "        return -1\n",
    "    # if s == e and s+1 == k:\n",
    "    #     return arr[s]\n",
    "    # if s==e then partition will send s(==e) => if one ele in array then it is the pivot_idx\n",
    "\n",
    "    p_idx = partition(arr,s,e)\n",
    "    if p_idx + 1 == k:\n",
    "        return arr[p_idx]\n",
    "    if p_idx + 1 > k:\n",
    "        return kth_smallest(arr,k,s,p_idx-1)\n",
    "    else:\n",
    "        return kth_smallest(arr,k,p_idx+1,e)\n",
    "\n",
    "        "
   ]
  },
  {
   "cell_type": "code",
   "execution_count": 53,
   "metadata": {},
   "outputs": [
    {
     "name": "stdout",
     "output_type": "stream",
     "text": [
      "-1 -1 0 2 4 5 6 7 10 -1 -1 "
     ]
    }
   ],
   "source": [
    "arr = [10,5,2,0,7,6,4]\n",
    "for k in range(-1,10):\n",
    "    print(kth_smallest(arr,k,0,len(arr)-1), end=' ')"
   ]
  },
  {
   "cell_type": "code",
   "execution_count": 54,
   "metadata": {},
   "outputs": [
    {
     "data": {
      "text/plain": [
       "[0, 2, 4, 5, 6, 7, 10]"
      ]
     },
     "execution_count": 54,
     "metadata": {},
     "output_type": "execute_result"
    }
   ],
   "source": [
    "quick_sort(arr,0,len(arr)-1)\n",
    "arr"
   ]
  },
  {
   "cell_type": "code",
   "execution_count": 5,
   "metadata": {},
   "outputs": [],
   "source": [
    "def merge(arr,s,m,e):\n",
    "    i = s\n",
    "    j = m+1\n",
    "    lst = list()\n",
    "    while i <= m and j <= e:\n",
    "        # only diff\n",
    "        if arr[i]+arr[j] <= arr[j]+arr[j]:\n",
    "            lst.append(arr[i])\n",
    "            i += 1\n",
    "        else:\n",
    "            lst.append(arr[j])\n",
    "            j += 1\n",
    "    while i <= m:\n",
    "        lst.append(arr[i])\n",
    "        i += 1\n",
    "    while j <= e:\n",
    "        lst.append(arr[j])\n",
    "        j += 1\n",
    "    arr[s:e+1] = lst\n",
    "\n",
    "def smallest_string(arr,s,e):\n",
    "    if s>=e: return\n",
    "    m = (s+e)//2\n",
    "    # sort left array\n",
    "    smallest_string(arr,s,m)\n",
    "    # sort right array\n",
    "    smallest_string(arr,m+1,e)\n",
    "    # merge both arrays\n",
    "    merge(arr,s,m,e)\n"
   ]
  },
  {
   "cell_type": "code",
   "execution_count": 7,
   "metadata": {},
   "outputs": [
    {
     "data": {
      "text/plain": [
       "['a', 'aba', 'ab']"
      ]
     },
     "execution_count": 7,
     "metadata": {},
     "output_type": "execute_result"
    }
   ],
   "source": [
    "arr = ['a','ab','aba']\n",
    "smallest_string(arr,0,len(arr)-1)\n",
    "arr"
   ]
  },
  {
   "cell_type": "code",
   "execution_count": 8,
   "metadata": {},
   "outputs": [
    {
     "data": {
      "text/plain": [
       "['cba', 'cb', 'c']"
      ]
     },
     "execution_count": 8,
     "metadata": {},
     "output_type": "execute_result"
    }
   ],
   "source": [
    "arr = ['c','cb','cba']\n",
    "smallest_string(arr,0,len(arr)-1)\n",
    "arr"
   ]
  }
 ],
 "metadata": {
  "interpreter": {
   "hash": "1c4eeb78d5e1dc6cb6e62b5bd20620b702dce5b8b8ded6688ef7aad2e1c0d17c"
  },
  "kernelspec": {
   "display_name": "Python 3.9.9 64-bit",
   "language": "python",
   "name": "python3"
  },
  "language_info": {
   "codemirror_mode": {
    "name": "ipython",
    "version": 3
   },
   "file_extension": ".py",
   "mimetype": "text/x-python",
   "name": "python",
   "nbconvert_exporter": "python",
   "pygments_lexer": "ipython3",
   "version": "3.9.9"
  },
  "orig_nbformat": 4
 },
 "nbformat": 4,
 "nbformat_minor": 2
}
