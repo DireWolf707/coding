{
 "cells": [
  {
   "cell_type": "code",
   "execution_count": 13,
   "metadata": {},
   "outputs": [],
   "source": [
    "class Node:\n",
    "    def __init__(self, d, left=None, right=None):\n",
    "        self.data = d\n",
    "        self.left = left\n",
    "        self.right = right\n",
    "        \n",
    "def build_tree_arr(arr):\n",
    "    d = arr.pop(0)\n",
    "    if d == -1:\n",
    "        return None\n",
    "    node = Node(d)\n",
    "    node.left = build_tree_arr(arr)\n",
    "    node.right = build_tree_arr(arr)\n",
    "    return node\n",
    "\n",
    "def levelorder(node: Node):\n",
    "    queue = list()\n",
    "    queue.append(node)\n",
    "    ###\n",
    "    queue.append(None)\n",
    "    # until empty\n",
    "    while queue != [] :\n",
    "        currNode = queue.pop(0)\n",
    "        ###\n",
    "        if currNode is None: \n",
    "            print()\n",
    "            # its not the last none\n",
    "            if queue != []: queue.append(None)\n",
    "            continue\n",
    "        \n",
    "        print(currNode.data, end=' ')\n",
    "        if currNode.left is not None:\n",
    "            queue.append(currNode.left)\n",
    "        if currNode.right is not None:\n",
    "            queue.append(currNode.right)\n",
    "\n",
    "def build_tree_levelorder(arr):\n",
    "    rootData = arr.pop(0)\n",
    "    rootNode = Node(rootData)\n",
    "    queue = list()\n",
    "    queue.append(rootNode)\n",
    "\n",
    "    while queue != []:\n",
    "        currNode = queue.pop(0)\n",
    "\n",
    "        leftData = arr.pop(0)\n",
    "        if leftData != -1:\n",
    "            leftNode = Node(leftData)\n",
    "            currNode.left = leftNode\n",
    "            queue.append(leftNode)\n",
    "\n",
    "        rightData = arr.pop(0)\n",
    "        if rightData != -1:\n",
    "            rightNode = Node(rightData)\n",
    "            currNode.right = rightNode\n",
    "            queue.append(rightNode)\n",
    "\n",
    "    return rootNode"
   ]
  },
  {
   "cell_type": "code",
   "execution_count": 14,
   "metadata": {},
   "outputs": [],
   "source": [
    "def replace_with_sum(root: Node):\n",
    "    if root is None:\n",
    "        return 0\n",
    "    if root.left is None and root.right is None:\n",
    "        return root.data\n",
    "    left_sum = replace_with_sum(root.left)\n",
    "    right_sum = replace_with_sum(root.right)\n",
    "    temp = root.data\n",
    "    root.data = left_sum + right_sum\n",
    "    return temp + root.data"
   ]
  },
  {
   "cell_type": "code",
   "execution_count": 18,
   "metadata": {},
   "outputs": [
    {
     "name": "stdout",
     "output_type": "stream",
     "text": [
      "1 \n",
      "2 3 \n",
      "4 5 6 \n",
      "7 \n",
      "\n",
      "27 \n",
      "16 6 \n",
      "4 7 6 \n",
      "7 \n"
     ]
    }
   ],
   "source": [
    "tree = [1,2,3,4,5,-1,6,-1,-1,7,-1,-1,-1,-1,-1]\n",
    "t = build_tree_levelorder(tree)\n",
    "levelorder(t)\n",
    "print()\n",
    "replace_with_sum(t)\n",
    "levelorder(t)"
   ]
  },
  {
   "cell_type": "code",
   "execution_count": 26,
   "metadata": {},
   "outputs": [],
   "source": [
    "def is_balanced(root):\n",
    "    if root is None:\n",
    "        return 0,True\n",
    "    lh, left_balanced = is_balanced(root.left)\n",
    "    rh, right_balanced = is_balanced(root.right)\n",
    "    h = max(lh,rh)+1\n",
    "    balanced = abs(lh-rh) <= 1\n",
    "    return h, (balanced and left_balanced and right_balanced)"
   ]
  },
  {
   "cell_type": "code",
   "execution_count": 28,
   "metadata": {},
   "outputs": [
    {
     "name": "stdout",
     "output_type": "stream",
     "text": [
      "1 \n",
      "2 3 \n",
      "4 5 6 \n",
      "7 8 \n",
      "9 10 \n",
      "(5, False)\n",
      "1 \n",
      "2 3 \n",
      "4 5 6 \n",
      "7 8 \n",
      "(4, True)\n"
     ]
    }
   ],
   "source": [
    "tree = [1,2,3,4,5,-1,6,-1,-1,7,8,-1,-1,-1,-1,9,10,-1,-1,-1,-1]\n",
    "t = build_tree_levelorder(tree)\n",
    "levelorder(t)\n",
    "print(is_balanced(t))\n",
    "tree = [1,2,3,4,5,-1,6,-1,-1,7,8,-1,-1,-1,-1,-1,-1]\n",
    "t = build_tree_levelorder(tree)\n",
    "levelorder(t)\n",
    "print(is_balanced(t))"
   ]
  },
  {
   "cell_type": "code",
   "execution_count": 37,
   "metadata": {},
   "outputs": [],
   "source": [
    "def max_subset_sum(root):\n",
    "    if root is None:\n",
    "        return 0,0\n",
    "    l_inc, l_exc = max_subset_sum(root.left)\n",
    "    r_inc, r_exc = max_subset_sum(root.right)\n",
    "\n",
    "    inc = root.data + l_exc + r_exc\n",
    "    exc = max(l_inc,l_exc) + max(r_inc,r_exc)\n",
    "    return inc, exc"
   ]
  },
  {
   "cell_type": "code",
   "execution_count": 41,
   "metadata": {},
   "outputs": [
    {
     "name": "stdout",
     "output_type": "stream",
     "text": [
      "1 \n",
      "2 3 \n",
      "4 5 6 \n",
      "7 \n",
      "max sum: 18\n"
     ]
    }
   ],
   "source": [
    "tree = [1,2,3,4,5,-1,6,-1,-1,7,-1,-1,-1,-1,-1]\n",
    "t = build_tree_levelorder(tree)\n",
    "levelorder(t)\n",
    "print('max sum:',max(max_subset_sum(t)))"
   ]
  },
  {
   "cell_type": "code",
   "execution_count": 80,
   "metadata": {},
   "outputs": [],
   "source": [
    "def vertical_order_print(root: Node, hash: dict, d=0):\n",
    "    if root is None:\n",
    "        return\n",
    "    \n",
    "    vertical_order_print(root.left, hash, d-1)\n",
    "    vertical_order_print(root.right, hash, d+1)\n",
    "    hash[d] = hash.get(d, list())+[root.data]"
   ]
  },
  {
   "cell_type": "code",
   "execution_count": 87,
   "metadata": {},
   "outputs": [
    {
     "name": "stdout",
     "output_type": "stream",
     "text": [
      "1 \n",
      "2 3 \n",
      "4 5 6 7 \n",
      "8 9 \n",
      "\n",
      "4 \n",
      "2 \n",
      "5 6 1 \n",
      "8 3 \n",
      "7 \n",
      "9 \n"
     ]
    }
   ],
   "source": [
    "tree = [1,2,3,4,5,6,7,-1,-1,-1,-1,-1,8,-1,9,-1,-1,-1,-1]\n",
    "t = build_tree_levelorder(tree)\n",
    "levelorder(t)\n",
    "print()\n",
    "hash = dict()\n",
    "vertical_order_print(t, hash)\n",
    "for k in sorted(hash):\n",
    "    for v in hash[k]:\n",
    "        print(v,end=' ')\n",
    "    print()"
   ]
  },
  {
   "cell_type": "code",
   "execution_count": 117,
   "metadata": {},
   "outputs": [],
   "source": [
    "def print_level_K(root: Node, k):\n",
    "    if root is None:\n",
    "        return\n",
    "    if k == 0:\n",
    "        return print(root.data, end=' ')\n",
    "    print_level_K(root.left, k-1)\n",
    "    print_level_K(root.right, k-1)\n",
    "\n",
    "def print_level_K_2(root, k):\n",
    "    if root is None:\n",
    "        return []\n",
    "    if k == 0:\n",
    "        return [root.data]\n",
    "    return print_level_K_2(root.left, k-1) + print_level_K_2(root.right, k-1)"
   ]
  },
  {
   "cell_type": "code",
   "execution_count": 118,
   "metadata": {},
   "outputs": [
    {
     "name": "stdout",
     "output_type": "stream",
     "text": [
      "1 \n",
      "2 3 \n",
      "4 5 6 \n",
      "7 \n",
      "\n"
     ]
    },
    {
     "data": {
      "text/plain": [
       "[4, 5, 6]"
      ]
     },
     "execution_count": 118,
     "metadata": {},
     "output_type": "execute_result"
    }
   ],
   "source": [
    "tree = [1,2,3,4,5,-1,6,-1,-1,7,-1,-1,-1,-1,-1]\n",
    "t = build_tree_levelorder(tree)\n",
    "levelorder(t)\n",
    "print()\n",
    "print_level_K_2(t,2)"
   ]
  },
  {
   "cell_type": "code",
   "execution_count": 126,
   "metadata": {},
   "outputs": [],
   "source": [
    "def print_nodes_at_K_distance(root: Node, target: int, k: int) -> None:\n",
    "    # target not found\n",
    "    if root is None:\n",
    "        return -1\n",
    "    # target found\n",
    "    if root.data == target:\n",
    "        print_level_K(root, k)\n",
    "        return 0\n",
    "    # target found on left\n",
    "    d_l = print_nodes_at_K_distance(root.left, target, k)\n",
    "    # if node was found in left\n",
    "    if d_l != -1:\n",
    "        d = d_l +1\n",
    "        # if curr node k dist away\n",
    "        if d == k:\n",
    "            print(root.data)\n",
    "        # if right subtree can have a node k-d dist away\n",
    "        elif k > d:\n",
    "            print_level_K(root.right, target, d-1)\n",
    "        return d\n",
    "    # target found on right\n",
    "    d_r = print_nodes_at_K_distance(root.right, target, k)\n",
    "    if d_r != -1:\n",
    "        d = d_r +1\n",
    "        # if curr node k dist away\n",
    "        if d == k:\n",
    "            print(root.data)\n",
    "        # if right subtree can have a node k-d dist away\n",
    "        elif k > d:\n",
    "            print_level_K(root.left,d-1)\n",
    "        return d\n",
    "    # not found\n",
    "    return -1\n",
    "        "
   ]
  },
  {
   "cell_type": "code",
   "execution_count": 129,
   "metadata": {},
   "outputs": [
    {
     "name": "stdout",
     "output_type": "stream",
     "text": [
      "1 \n",
      "2 3 \n",
      "4 5 6 \n",
      "7 8 \n",
      "9 10 \n",
      "\n",
      "9 10 4 1\n"
     ]
    },
    {
     "data": {
      "text/plain": [
       "2"
      ]
     },
     "execution_count": 129,
     "metadata": {},
     "output_type": "execute_result"
    }
   ],
   "source": [
    "tree = [1,2,3,4,5,-1,6,-1,-1,7,8,-1,-1,-1,-1,9,10,-1,-1,-1,-1]\n",
    "t = build_tree_levelorder(tree)\n",
    "levelorder(t)\n",
    "print()\n",
    "print_nodes_at_K_distance(t,5,2)"
   ]
  }
 ],
 "metadata": {
  "interpreter": {
   "hash": "1c4eeb78d5e1dc6cb6e62b5bd20620b702dce5b8b8ded6688ef7aad2e1c0d17c"
  },
  "kernelspec": {
   "display_name": "Python 3.9.9 64-bit",
   "language": "python",
   "name": "python3"
  },
  "language_info": {
   "codemirror_mode": {
    "name": "ipython",
    "version": 3
   },
   "file_extension": ".py",
   "mimetype": "text/x-python",
   "name": "python",
   "nbconvert_exporter": "python",
   "pygments_lexer": "ipython3",
   "version": "3.9.9"
  },
  "orig_nbformat": 4
 },
 "nbformat": 4,
 "nbformat_minor": 2
}
