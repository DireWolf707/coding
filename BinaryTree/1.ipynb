{
 "cells": [
  {
   "cell_type": "code",
   "execution_count": 6,
   "metadata": {},
   "outputs": [],
   "source": [
    "class Node:\n",
    "    def __init__(self, d, left=None, right=None):\n",
    "        self.data = d\n",
    "        self.left = left\n",
    "        self.right = right\n",
    "\n",
    "def build_tree():\n",
    "    d = int(input())\n",
    "    if d == -1:\n",
    "        return None\n",
    "    node = Node(d)\n",
    "    node.left = build_tree()\n",
    "    node.right = build_tree()\n",
    "    return node\n",
    "\n",
    "def build_tree_arr(arr):\n",
    "    d = arr.pop(0)\n",
    "    if d == -1:\n",
    "        return None\n",
    "    node = Node(d)\n",
    "    node.left = build_tree_arr(arr)\n",
    "    node.right = build_tree_arr(arr)\n",
    "    return node\n",
    "\n",
    "def preorder(node: Node):\n",
    "    if node is None:\n",
    "        return \n",
    "    print(node.data,end=' ')\n",
    "    preorder(node.left)\n",
    "    preorder(node.right)\n",
    "    return\n",
    "\n",
    "def inorder(node: Node):\n",
    "    if node is None:\n",
    "        return \n",
    "    inorder(node.left)\n",
    "    print(node.data,end=' ')\n",
    "    inorder(node.right)\n",
    "    return\n",
    "\n",
    "def postorder(node: Node):\n",
    "    if node is None:\n",
    "        return \n",
    "    postorder(node.left)\n",
    "    postorder(node.right)\n",
    "    print(node.data,end=' ')\n",
    "    return\n",
    "\n",
    "def levelorder(node: Node):\n",
    "    queue = list()\n",
    "    queue.append(node)\n",
    "    # until empty\n",
    "    while queue != [] :\n",
    "        currNode = queue.pop(0)\n",
    "        print(currNode.data, end=' ')\n",
    "        if currNode.left is not None:\n",
    "            queue.append(currNode.left)\n",
    "        if currNode.right is not None:\n",
    "            queue.append(currNode.right)\n",
    "\n",
    "def levelorder2(node: Node):\n",
    "    queue = list()\n",
    "    queue.append(node)\n",
    "    ###\n",
    "    queue.append(None)\n",
    "    # until empty\n",
    "    while queue != [] :\n",
    "        currNode = queue.pop(0)\n",
    "        ###\n",
    "        if currNode is None: \n",
    "            print()\n",
    "            if queue != []: queue.append(None)\n",
    "            continue\n",
    "        \n",
    "        print(currNode.data, end=' ')\n",
    "        if currNode.left is not None:\n",
    "            queue.append(currNode.left)\n",
    "        if currNode.right is not None:\n",
    "            queue.append(currNode.right)\n",
    "\n",
    "def build_tree_levelorder(arr):\n",
    "    rootData = arr.pop(0)\n",
    "    rootNode = Node(rootData)\n",
    "    queue = list()\n",
    "    queue.append(rootNode)\n",
    "\n",
    "    while queue != []:\n",
    "        currNode = queue.pop(0)\n",
    "\n",
    "        leftData = arr.pop(0)\n",
    "        if leftData != -1:\n",
    "            leftNode = Node(leftData)\n",
    "            currNode.left = leftNode\n",
    "            queue.append(leftNode)\n",
    "\n",
    "        rightData = arr.pop(0)\n",
    "        if rightData != -1:\n",
    "            rightNode = Node(rightData)\n",
    "            currNode.right = rightNode\n",
    "            queue.append(rightNode)\n",
    "\n",
    "    return rootNode\n",
    "\n",
    "def search(node, d):\n",
    "    if node is None:\n",
    "        return False\n",
    "    if node.data == d:\n",
    "        return True\n",
    "\n",
    "    left_search = search(node.left, d)\n",
    "    right_search = search(node.right, d)\n",
    "\n",
    "    return left_search or right_search\n"
   ]
  },
  {
   "cell_type": "code",
   "execution_count": 7,
   "metadata": {},
   "outputs": [],
   "source": [
    "t = build_tree_arr([1,2,4,-1,-1,5,7,-1,-1,-1,3,-1,6,-1,-1])"
   ]
  },
  {
   "cell_type": "code",
   "execution_count": 12,
   "metadata": {},
   "outputs": [
    {
     "data": {
      "text/plain": [
       "False"
      ]
     },
     "execution_count": 12,
     "metadata": {},
     "output_type": "execute_result"
    }
   ],
   "source": [
    "search(t, 8)"
   ]
  },
  {
   "cell_type": "code",
   "execution_count": 5,
   "metadata": {},
   "outputs": [
    {
     "name": "stdout",
     "output_type": "stream",
     "text": [
      "1 2 4 5 7 3 6 "
     ]
    }
   ],
   "source": [
    "preorder(t)"
   ]
  },
  {
   "cell_type": "code",
   "execution_count": 6,
   "metadata": {},
   "outputs": [
    {
     "name": "stdout",
     "output_type": "stream",
     "text": [
      "4 2 7 5 1 3 6 "
     ]
    }
   ],
   "source": [
    "inorder(t)"
   ]
  },
  {
   "cell_type": "code",
   "execution_count": 7,
   "metadata": {},
   "outputs": [
    {
     "name": "stdout",
     "output_type": "stream",
     "text": [
      "4 7 5 2 6 3 1 "
     ]
    }
   ],
   "source": [
    "postorder(t)"
   ]
  },
  {
   "cell_type": "code",
   "execution_count": 8,
   "metadata": {},
   "outputs": [
    {
     "name": "stdout",
     "output_type": "stream",
     "text": [
      "1 \n",
      "2 3 \n",
      "4 5 6 \n",
      "7 \n"
     ]
    }
   ],
   "source": [
    "levelorder2(t)"
   ]
  },
  {
   "cell_type": "code",
   "execution_count": 9,
   "metadata": {},
   "outputs": [
    {
     "name": "stdout",
     "output_type": "stream",
     "text": [
      "1 \n",
      "2 3 \n",
      "4 5 6 \n",
      "7 \n"
     ]
    }
   ],
   "source": [
    "t = build_tree_levelorder([1,2,3,4,5,-1,6,-1,-1,7,-1,-1,-1,-1,-1])\n",
    "levelorder2(t)"
   ]
  },
  {
   "cell_type": "code",
   "execution_count": 32,
   "metadata": {},
   "outputs": [],
   "source": [
    "class Node:\n",
    "    def __init__(self, d, left=None, right=None):\n",
    "        self.data = d\n",
    "        self.left = left\n",
    "        self.right = right\n",
    "\n",
    "def height(node: Node):\n",
    "    if node is None:\n",
    "        return 0\n",
    "    left_height = height(node.left)\n",
    "    right_height = height(node.right)\n",
    "    return max(left_height, right_height) + 1\n",
    "\n",
    "# O(n2)\n",
    "def diameter(node: Node):\n",
    "    if node is None:\n",
    "        return 0\n",
    "    root_diameter = height(node.left) + height(node.right)\n",
    "    left_subtree_diameter = diameter(node.left)\n",
    "    right_subtree_diameter = diameter(node.right)\n",
    "    return max(root_diameter,left_subtree_diameter,right_subtree_diameter)\n",
    "\n",
    "# O(n)\n",
    "def diameter2(node: Node):\n",
    "    if node is None:\n",
    "        return 0, 0\n",
    "    \n",
    "    left_subtree_diameter, left_height = diameter2(node.left)\n",
    "    right_subtree_diameter, right_height = diameter2(node.right)\n",
    "    root_diameter = left_height + right_height # ( LH - 1 + RH -1 + 2 = LH + RH )\n",
    "    return max(root_diameter,left_subtree_diameter,right_subtree_diameter), max(left_height, right_height) + 1"
   ]
  },
  {
   "cell_type": "code",
   "execution_count": 28,
   "metadata": {},
   "outputs": [
    {
     "data": {
      "text/plain": [
       "4"
      ]
     },
     "execution_count": 28,
     "metadata": {},
     "output_type": "execute_result"
    }
   ],
   "source": [
    "height(t)"
   ]
  },
  {
   "cell_type": "code",
   "execution_count": 30,
   "metadata": {},
   "outputs": [
    {
     "data": {
      "text/plain": [
       "5"
      ]
     },
     "execution_count": 30,
     "metadata": {},
     "output_type": "execute_result"
    }
   ],
   "source": [
    "diameter2(t)[0]"
   ]
  },
  {
   "cell_type": "code",
   "execution_count": null,
   "metadata": {},
   "outputs": [],
   "source": []
  }
 ],
 "metadata": {
  "interpreter": {
   "hash": "2a8431a8e68ef2d76b7193ad360e5695863511544801ded22bf3f46f40f05425"
  },
  "kernelspec": {
   "display_name": "Python 3.9.9 64-bit",
   "language": "python",
   "name": "python3"
  },
  "language_info": {
   "codemirror_mode": {
    "name": "ipython",
    "version": 3
   },
   "file_extension": ".py",
   "mimetype": "text/x-python",
   "name": "python",
   "nbconvert_exporter": "python",
   "pygments_lexer": "ipython3",
   "version": "3.9.9"
  },
  "orig_nbformat": 4
 },
 "nbformat": 4,
 "nbformat_minor": 2
}
