{
 "cells": [
  {
   "cell_type": "code",
   "execution_count": 12,
   "metadata": {},
   "outputs": [],
   "source": [
    "def ladder(n,dp):\n",
    "    if n==0:\n",
    "        return 1\n",
    "    if dp[n] != 0: return dp[n]\n",
    "    count = 0\n",
    "    for i in range(1,4):\n",
    "        if n-i >= 0:\n",
    "            count += ladder(n-i, dp)\n",
    "    dp[n] = count\n",
    "    return count\n"
   ]
  },
  {
   "cell_type": "code",
   "execution_count": 48,
   "metadata": {},
   "outputs": [
    {
     "name": "stdout",
     "output_type": "stream",
     "text": [
      "[0, 1, 2, 4, 7, 13, 24, 44]\n"
     ]
    }
   ],
   "source": [
    "n=7\n",
    "dp = [0 for i in range(n+1)]\n",
    "ladder(n, dp)\n",
    "print(dp)"
   ]
  },
  {
   "cell_type": "markdown",
   "metadata": {},
   "source": [
    "- subsets = subsequence (ungrouped) != substring (grouped)"
   ]
  },
  {
   "cell_type": "code",
   "execution_count": 49,
   "metadata": {},
   "outputs": [],
   "source": [
    "def subsets(s,ans=''):\n",
    "    if s == '':\n",
    "        return print(ans)\n",
    "    subsets(s[1:],ans)\n",
    "    subsets(s[1:],ans+s[0])"
   ]
  },
  {
   "cell_type": "code",
   "execution_count": 51,
   "metadata": {},
   "outputs": [
    {
     "name": "stdout",
     "output_type": "stream",
     "text": [
      "\n",
      "c\n",
      "b\n",
      "bc\n",
      "a\n",
      "ac\n",
      "ab\n",
      "abc\n"
     ]
    }
   ],
   "source": [
    "subsets('abc')"
   ]
  },
  {
   "cell_type": "code",
   "execution_count": 52,
   "metadata": {},
   "outputs": [],
   "source": [
    "def subset_sum(arr, total, s, e, curr = 0):\n",
    "    if s > e:\n",
    "        if total == curr:\n",
    "            return 1\n",
    "        else:\n",
    "            return 0\n",
    "    inc = subset_sum(arr, total, s+1, e, curr + arr[s])\n",
    "    exc = subset_sum(arr, total, s+1, e, curr)\n",
    "    return inc + exc\n"
   ]
  },
  {
   "cell_type": "code",
   "execution_count": 55,
   "metadata": {},
   "outputs": [
    {
     "data": {
      "text/plain": [
       "3"
      ]
     },
     "execution_count": 55,
     "metadata": {},
     "output_type": "execute_result"
    }
   ],
   "source": [
    "arr = [1,2,3,4,5]\n",
    "total = 6\n",
    "subset_sum(arr, total, 0, len(arr)-1)"
   ]
  },
  {
   "cell_type": "code",
   "execution_count": 3,
   "metadata": {},
   "outputs": [],
   "source": [
    "def bracket_pair(n, open = 0 ,close = 0, i=0, pattern=''):\n",
    "    if i==2*n:\n",
    "        print(pattern)\n",
    "        return\n",
    "    #open\n",
    "    if open < n:\n",
    "        bracket_pair(n, open+1, close, i+1, pattern+'(')\n",
    "    if close < open:\n",
    "        bracket_pair(n, open, close+1, i+1, pattern+')')"
   ]
  },
  {
   "cell_type": "code",
   "execution_count": 4,
   "metadata": {},
   "outputs": [
    {
     "name": "stdout",
     "output_type": "stream",
     "text": [
      "(())\n",
      "()()\n"
     ]
    }
   ],
   "source": [
    "bracket_pair(2)"
   ]
  },
  {
   "cell_type": "code",
   "execution_count": 20,
   "metadata": {},
   "outputs": [],
   "source": [
    "def bracket_pair(n,opening_bracket=0,closing_bracket=0,output=''):\n",
    "    if opening_bracket+closing_bracket == 2*n:\n",
    "        print(output)\n",
    "        return\n",
    "    if opening_bracket > closing_bracket:\n",
    "        bracket_pair(n,opening_bracket,closing_bracket+1,output+')')\n",
    "    if opening_bracket < n:\n",
    "        bracket_pair(n,opening_bracket+1,closing_bracket,output+'(')"
   ]
  },
  {
   "cell_type": "code",
   "execution_count": 26,
   "metadata": {},
   "outputs": [
    {
     "name": "stdout",
     "output_type": "stream",
     "text": [
      "()()\n",
      "(())\n"
     ]
    }
   ],
   "source": [
    "bracket_pair(2)"
   ]
  },
  {
   "cell_type": "code",
   "execution_count": 29,
   "metadata": {},
   "outputs": [],
   "source": [
    "def keypad(digit):\n",
    "    keypad={\n",
    "        '2':['a','b','c'],\n",
    "        '3':['d','e','f'],\n",
    "        '4':['g','h','i'],\n",
    "        '5':['j','k','l'],\n",
    "        '6':['m','n','o'],\n",
    "        '7':['p','q','r','s'],\n",
    "        '8':['t','u','v'],\n",
    "        '9':['w','x','y','z'],\n",
    "    }\n",
    "    return keypad[digit]\n",
    "\n",
    "def keypad_combo(digits,output=''):\n",
    "    if digits==\"\":\n",
    "        return print(output)\n",
    "    \n",
    "    for ch in keypad(digits[0]):\n",
    "        keypad_combo(digits[1:], output+ch)\n"
   ]
  },
  {
   "cell_type": "code",
   "execution_count": 32,
   "metadata": {},
   "outputs": [
    {
     "name": "stdout",
     "output_type": "stream",
     "text": [
      "ad\n",
      "ae\n",
      "af\n",
      "bd\n",
      "be\n",
      "bf\n",
      "cd\n",
      "ce\n",
      "cf\n"
     ]
    }
   ],
   "source": [
    "keypad_combo('23')"
   ]
  },
  {
   "cell_type": "code",
   "execution_count": 35,
   "metadata": {},
   "outputs": [],
   "source": [
    "def permutation(s,ans=''):\n",
    "    if s == \"\":\n",
    "        return print(ans)\n",
    "    for i in range(len(s)):\n",
    "        permutation(s[:i]+s[i+1:],ans+s[i])"
   ]
  },
  {
   "cell_type": "code",
   "execution_count": 37,
   "metadata": {},
   "outputs": [
    {
     "name": "stdout",
     "output_type": "stream",
     "text": [
      "abc\n",
      "acb\n",
      "bac\n",
      "bca\n",
      "cab\n",
      "cba\n"
     ]
    }
   ],
   "source": [
    "permutation('abc')"
   ]
  },
  {
   "cell_type": "code",
   "execution_count": 52,
   "metadata": {},
   "outputs": [],
   "source": [
    "def is_safe(arr,r,c,v,n=9) -> bool:\n",
    "    for i in range(n):\n",
    "        if arr[r][i] == v or arr[i][c] == v:\n",
    "            return False\n",
    "    sx = (r//3)*3\n",
    "    sy = (c//3)*3\n",
    "    for row in range(sx,sx+3):\n",
    "        for col in range(sy,sy+3):\n",
    "            if arr[row][col] == v:\n",
    "                return False\n",
    "        return True\n",
    "\n",
    "def sudoku(r,c,board):\n",
    "    if r == 9:\n",
    "        return True\n",
    "    if c == 9:\n",
    "        return sudoku(r+1,0,board)\n",
    "    \n",
    "    if board[r][c] == '.':\n",
    "        for i in range(1,10):\n",
    "            num = str(i)\n",
    "            if is_safe(board,r,c,num):\n",
    "                board[r][c] = num\n",
    "                is_solved = sudoku(r,c+1,board)\n",
    "                if is_solved:\n",
    "                    return True\n",
    "        # backtrack\n",
    "        board[r][c] = '.'\n",
    "        return False\n",
    "\n",
    "    else:\n",
    "        return sudoku(r,c+1,board)\n"
   ]
  },
  {
   "cell_type": "code",
   "execution_count": 57,
   "metadata": {},
   "outputs": [],
   "source": [
    "board = [[\"5\",\"3\",\".\",\".\",\"7\",\".\",\".\",\".\",\".\"],[\"6\",\".\",\".\",\"1\",\"9\",\"5\",\".\",\".\",\".\"],[\".\",\"9\",\"8\",\".\",\".\",\".\",\".\",\"6\",\".\"],[\"8\",\".\",\".\",\".\",\"6\",\".\",\".\",\".\",\"3\"],[\"4\",\".\",\".\",\"8\",\".\",\"3\",\".\",\".\",\"1\"],[\"7\",\".\",\".\",\".\",\"2\",\".\",\".\",\".\",\"6\"],[\".\",\"6\",\".\",\".\",\".\",\".\",\"2\",\"8\",\".\"],[\".\",\".\",\".\",\"4\",\"1\",\"9\",\".\",\".\",\"5\"],[\".\",\".\",\".\",\".\",\"8\",\".\",\".\",\"7\",\"9\"]]\n",
    "output = [[\"5\",\"3\",\"4\",\"6\",\"7\",\"8\",\"9\",\"1\",\"2\"],[\"6\",\"7\",\"2\",\"1\",\"9\",\"5\",\"3\",\"4\",\"8\"],[\"1\",\"9\",\"8\",\"3\",\"4\",\"2\",\"5\",\"6\",\"7\"],[\"8\",\"5\",\"9\",\"7\",\"6\",\"1\",\"4\",\"2\",\"3\"],[\"4\",\"2\",\"6\",\"8\",\"5\",\"3\",\"7\",\"9\",\"1\"],[\"7\",\"1\",\"3\",\"9\",\"2\",\"4\",\"8\",\"5\",\"6\"],[\"9\",\"6\",\"1\",\"5\",\"3\",\"7\",\"2\",\"8\",\"4\"],[\"2\",\"8\",\"7\",\"4\",\"1\",\"9\",\"6\",\"3\",\"5\"],[\"3\",\"4\",\"5\",\"2\",\"8\",\"6\",\"1\",\"7\",\"9\"]]"
   ]
  },
  {
   "cell_type": "code",
   "execution_count": 58,
   "metadata": {},
   "outputs": [
    {
     "data": {
      "text/plain": [
       "False"
      ]
     },
     "execution_count": 58,
     "metadata": {},
     "output_type": "execute_result"
    }
   ],
   "source": [
    "board == output"
   ]
  },
  {
   "cell_type": "code",
   "execution_count": 59,
   "metadata": {},
   "outputs": [
    {
     "data": {
      "text/plain": [
       "True"
      ]
     },
     "execution_count": 59,
     "metadata": {},
     "output_type": "execute_result"
    }
   ],
   "source": [
    "sudoku(0,0,board)"
   ]
  },
  {
   "cell_type": "code",
   "execution_count": 60,
   "metadata": {},
   "outputs": [
    {
     "data": {
      "text/plain": [
       "True"
      ]
     },
     "execution_count": 60,
     "metadata": {},
     "output_type": "execute_result"
    }
   ],
   "source": [
    "board == output"
   ]
  },
  {
   "cell_type": "code",
   "execution_count": null,
   "metadata": {},
   "outputs": [],
   "source": []
  }
 ],
 "metadata": {
  "interpreter": {
   "hash": "1c4eeb78d5e1dc6cb6e62b5bd20620b702dce5b8b8ded6688ef7aad2e1c0d17c"
  },
  "kernelspec": {
   "display_name": "Python 3.9.9 64-bit",
   "language": "python",
   "name": "python3"
  },
  "language_info": {
   "codemirror_mode": {
    "name": "ipython",
    "version": 3
   },
   "file_extension": ".py",
   "mimetype": "text/x-python",
   "name": "python",
   "nbconvert_exporter": "python",
   "pygments_lexer": "ipython3",
   "version": "3.9.9"
  },
  "orig_nbformat": 4
 },
 "nbformat": 4,
 "nbformat_minor": 2
}
