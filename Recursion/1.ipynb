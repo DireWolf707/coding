{
 "cells": [
  {
   "cell_type": "code",
   "execution_count": 11,
   "metadata": {},
   "outputs": [
    {
     "data": {
      "text/plain": [
       "24"
      ]
     },
     "execution_count": 11,
     "metadata": {},
     "output_type": "execute_result"
    }
   ],
   "source": [
    "def fact(n):\n",
    "    if n < 2:\n",
    "        return 1 \n",
    "    return n*fact(n-1)\n",
    "fact(4)"
   ]
  },
  {
   "cell_type": "code",
   "execution_count": 24,
   "metadata": {},
   "outputs": [
    {
     "data": {
      "text/plain": [
       "55"
      ]
     },
     "execution_count": 24,
     "metadata": {},
     "output_type": "execute_result"
    }
   ],
   "source": [
    "def fib(n):\n",
    "    if n < 2:\n",
    "        return n\n",
    "    return fib(n-1) + fib(n-2)\n",
    "fib(10)"
   ]
  },
  {
   "cell_type": "code",
   "execution_count": 31,
   "metadata": {},
   "outputs": [
    {
     "data": {
      "text/plain": [
       "True"
      ]
     },
     "execution_count": 31,
     "metadata": {},
     "output_type": "execute_result"
    }
   ],
   "source": [
    "def isSorted(arr,s,e):\n",
    "    if s==e:\n",
    "        return True\n",
    "    return arr[s]<arr[s+1] and isSorted(arr,s+1,e)\n",
    "array = [1,2,4,5,6]\n",
    "isSorted(array,0,len(array)-1)"
   ]
  },
  {
   "cell_type": "code",
   "execution_count": 35,
   "metadata": {},
   "outputs": [
    {
     "name": "stdout",
     "output_type": "stream",
     "text": [
      "5\n",
      "4\n",
      "3\n",
      "2\n",
      "1\n"
     ]
    }
   ],
   "source": [
    "def natural_num(n):\n",
    "    if n==0:\n",
    "        return\n",
    "    natural_num(n-1)\n",
    "    print(n)\n",
    "def rev_natural_num(n):\n",
    "    if n==0:\n",
    "        return\n",
    "    print(n)\n",
    "    rev_natural_num(n-1)\n",
    "    \n",
    "rev_natural_num(5)"
   ]
  },
  {
   "cell_type": "code",
   "execution_count": 50,
   "metadata": {},
   "outputs": [
    {
     "data": {
      "text/plain": [
       "1"
      ]
     },
     "execution_count": 50,
     "metadata": {},
     "output_type": "execute_result"
    }
   ],
   "source": [
    "def firstOccurence(arr,v,s,e):\n",
    "    if s > e:\n",
    "        return -1\n",
    "    found = (arr[s] == v)\n",
    "    if found: return s\n",
    "    return firstOccurence(arr,v,s+1,e)\n",
    "    \n",
    "array = [1,5,3,4,5]\n",
    "firstOccurence(array,5,0,len(array)-1)"
   ]
  },
  {
   "cell_type": "code",
   "execution_count": 58,
   "metadata": {},
   "outputs": [
    {
     "data": {
      "text/plain": [
       "4"
      ]
     },
     "execution_count": 58,
     "metadata": {},
     "output_type": "execute_result"
    }
   ],
   "source": [
    "def lastOccurence(arr,v,s,e):\n",
    "    if s > e:\n",
    "        return -1\n",
    "    found = lastOccurence(arr,v,s+1,e)\n",
    "    if found != -1: return found\n",
    "    if (arr[s] == v): return s\n",
    "    return -1\n",
    "array = [1,5,3,4,4,5]\n",
    "lastOccurence(array,4,0,len(array)-1)"
   ]
  },
  {
   "cell_type": "code",
   "execution_count": 63,
   "metadata": {},
   "outputs": [
    {
     "data": {
      "text/plain": [
       "16"
      ]
     },
     "execution_count": 63,
     "metadata": {},
     "output_type": "execute_result"
    }
   ],
   "source": [
    "def power(num,p):\n",
    "    if p==0:\n",
    "        return 1\n",
    "    return num*power(num,p-1)\n",
    "\n",
    "def power2(num,p):\n",
    "    if p==0:\n",
    "        return 1\n",
    "    ans = power2(num,p//2) # a^5 => a^2\n",
    "    ans = ans*ans # a^4\n",
    "    if p&1: ans = ans*num # if odd power => a^4*a => a^5\n",
    "    return ans\n",
    "\n",
    "power2(2,4)"
   ]
  },
  {
   "cell_type": "code",
   "execution_count": 10,
   "metadata": {},
   "outputs": [
    {
     "name": "stdout",
     "output_type": "stream",
     "text": [
      "[1, 2, 3, 4, 5]\n"
     ]
    }
   ],
   "source": [
    "def bubble_sort(arr,i,e):\n",
    "    # base case of outer loop\n",
    "    if e == 0:\n",
    "        print(arr)\n",
    "        return\n",
    "    # base case of inner loop\n",
    "    if i==e:\n",
    "        # iterating outer loop\n",
    "        bubble_sort(arr,0,e-1)\n",
    "        return\n",
    "    # body of inner loop\n",
    "    if arr[i] > arr[i+1]:\n",
    "        arr[i+1],arr[i] = arr[i],arr[i+1]\n",
    "    # iterating inner loop\n",
    "    bubble_sort(arr,i+1,e)\n",
    "    \n",
    "array = [5,4,3,2,1]\n",
    "bubble_sort([5,4,3,2,1],0,len(array)-1)"
   ]
  },
  {
   "cell_type": "code",
   "execution_count": 11,
   "metadata": {},
   "outputs": [
    {
     "name": "stdout",
     "output_type": "stream",
     "text": [
      "two zero two three one "
     ]
    }
   ],
   "source": [
    "num_to_alpha = ['zero', 'one', 'two', 'three']\n",
    "def spell_num(num):\n",
    "    if num == 0: return\n",
    "    spell_num(num//10)\n",
    "    digit = num % 10\n",
    "    print(num_to_alpha[digit],end=' ')\n",
    "\n",
    "spell_num(20231)\n"
   ]
  },
  {
   "cell_type": "code",
   "execution_count": null,
   "metadata": {},
   "outputs": [],
   "source": []
  }
 ],
 "metadata": {
  "interpreter": {
   "hash": "2a8431a8e68ef2d76b7193ad360e5695863511544801ded22bf3f46f40f05425"
  },
  "kernelspec": {
   "display_name": "Python 3.9.9 64-bit",
   "language": "python",
   "name": "python3"
  },
  "language_info": {
   "codemirror_mode": {
    "name": "ipython",
    "version": 3
   },
   "file_extension": ".py",
   "mimetype": "text/x-python",
   "name": "python",
   "nbconvert_exporter": "python",
   "pygments_lexer": "ipython3",
   "version": "3.9.9"
  },
  "orig_nbformat": 4
 },
 "nbformat": 4,
 "nbformat_minor": 2
}
