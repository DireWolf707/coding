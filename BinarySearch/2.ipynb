{
 "cells": [
  {
   "cell_type": "code",
   "execution_count": 9,
   "metadata": {},
   "outputs": [],
   "source": [
    "def lower_bound(arr,s,e,target):\n",
    "    ans = -1\n",
    "    while s <= e:\n",
    "        m = (s+e)//2\n",
    "        if arr[m] == target:\n",
    "            ans = m\n",
    "            e = m-1\n",
    "        elif target < arr[m]:\n",
    "            e = m-1\n",
    "        else:\n",
    "            s = m+1\n",
    "    return ans\n",
    "\n",
    "def upper_bound(arr,s,e,target):\n",
    "    ans = -1\n",
    "    while s <= e:\n",
    "        m = (s+e)//2\n",
    "        if arr[m] == target:\n",
    "            ans = m\n",
    "            s = m+1\n",
    "        elif target < arr[m]:\n",
    "            e = m-1\n",
    "        else:\n",
    "            s = m+1\n",
    "    return ans\n",
    "\n",
    "def freq_count(arr, target):\n",
    "    l = len(arr)\n",
    "    lb = lower_bound(arr,0,l-1,target)\n",
    "    ub = upper_bound(arr,0,l-1,target)\n",
    "    return ub - lb +1"
   ]
  },
  {
   "cell_type": "code",
   "execution_count": 11,
   "metadata": {},
   "outputs": [
    {
     "data": {
      "text/plain": [
       "4"
      ]
     },
     "execution_count": 11,
     "metadata": {},
     "output_type": "execute_result"
    }
   ],
   "source": [
    "arr = [0,1,1,1,1,2,2,2,3,4,4,5,10]\n",
    "freq_count(arr,1)"
   ]
  },
  {
   "cell_type": "code",
   "execution_count": 18,
   "metadata": {},
   "outputs": [],
   "source": [
    "def rotated_search(arr, target):\n",
    "    s = 0\n",
    "    e = len(arr)-1\n",
    "    while s <= e:\n",
    "        m = (s+e)//2\n",
    "        if target == arr[m]:\n",
    "            return m\n",
    "        if arr[s] <= arr[m]:\n",
    "            if arr[s] <= target and target < arr[m]:\n",
    "                e = m-1\n",
    "            else:\n",
    "                s = m+1\n",
    "        elif arr[m] <= arr[e]:\n",
    "            if arr[m] < target and target <= arr[e]:\n",
    "                s = m+1\n",
    "            else:\n",
    "                e = m-1 \n",
    "    return -1"
   ]
  },
  {
   "cell_type": "code",
   "execution_count": 19,
   "metadata": {},
   "outputs": [
    {
     "data": {
      "text/plain": [
       "6"
      ]
     },
     "execution_count": 19,
     "metadata": {},
     "output_type": "execute_result"
    }
   ],
   "source": [
    "rotated_search([7,9,10,1,2,3,4,5,6],4)"
   ]
  },
  {
   "cell_type": "code",
   "execution_count": 31,
   "metadata": {},
   "outputs": [],
   "source": [
    "def mySqrt(x: int):\n",
    "    s=0\n",
    "    e=x\n",
    "    m=(s+e)//2\n",
    "    ans = -1\n",
    "    while s <= e:\n",
    "        m = (s+e)//2\n",
    "        sq = m**2\n",
    "        if sq == x:\n",
    "            return m\n",
    "        elif sq < x:\n",
    "            ans = m\n",
    "            s = m+1\n",
    "        else:\n",
    "            e = m-1\n",
    "    return ans\n",
    "\n",
    "def mySqrt2(x: int):\n",
    "    i=0\n",
    "    while i**2 <= x:\n",
    "        i+=1\n",
    "    return i-1\n"
   ]
  },
  {
   "cell_type": "code",
   "execution_count": 32,
   "metadata": {},
   "outputs": [
    {
     "data": {
      "text/plain": [
       "3"
      ]
     },
     "execution_count": 32,
     "metadata": {},
     "output_type": "execute_result"
    }
   ],
   "source": [
    "mySqrt(10)"
   ]
  },
  {
   "cell_type": "code",
   "execution_count": 57,
   "metadata": {},
   "outputs": [],
   "source": [
    "def precise_ans(ans, p, x):\n",
    "    power = 10**(-p)\n",
    "    i = 1\n",
    "    while (ans + power*i)**2 <= x:\n",
    "        i += 1\n",
    "    return ans+power*(i-1)\n",
    "\n",
    "def mySqrtP(x, p):\n",
    "    s=0\n",
    "    e=x\n",
    "    m=(s+e)//2\n",
    "    ans = -1\n",
    "    while s <= e:\n",
    "        m = (s+e)//2\n",
    "        sq = m**2\n",
    "        if sq == x:\n",
    "            return m\n",
    "        elif sq < x:\n",
    "            ans = m\n",
    "            s = m+1\n",
    "        else:\n",
    "            e = m-1\n",
    "    for i in range(1,p+1):\n",
    "        ans = precise_ans(ans, i, x)\n",
    "    return ans"
   ]
  },
  {
   "cell_type": "code",
   "execution_count": 58,
   "metadata": {},
   "outputs": [
    {
     "data": {
      "text/plain": [
       "3.162"
      ]
     },
     "execution_count": 58,
     "metadata": {},
     "output_type": "execute_result"
    }
   ],
   "source": [
    "mySqrtP(10,3)"
   ]
  },
  {
   "cell_type": "code",
   "execution_count": 72,
   "metadata": {},
   "outputs": [],
   "source": [
    "def can_place(B,N,nests,gap):\n",
    "    birds_placed = 1\n",
    "    last_location = nests[0]\n",
    "    for i in range(1,N):\n",
    "        if nests[i] - last_location >= gap:\n",
    "            birds_placed += 1\n",
    "            last_location = nests[i]\n",
    "            if birds_placed == B:\n",
    "                return True\n",
    "    return False\n",
    "\n",
    "def angry_bird(B,N,nests):\n",
    "    s = 1\n",
    "    e = nests[N-1] - nests[0]\n",
    "    ans = -1\n",
    "    while s <= e:\n",
    "        m = (s + e)//2\n",
    "        if can_place(B,N,nests,m):\n",
    "            ans = m\n",
    "            s = m + 1 \n",
    "        else:\n",
    "            e = m - 1\n",
    "    return ans"
   ]
  },
  {
   "cell_type": "code",
   "execution_count": 74,
   "metadata": {},
   "outputs": [
    {
     "data": {
      "text/plain": [
       "3"
      ]
     },
     "execution_count": 74,
     "metadata": {},
     "output_type": "execute_result"
    }
   ],
   "source": [
    "nests = [1,2,4,8,9]\n",
    "N = len(nests)\n",
    "B = 3\n",
    "angry_bird(B,N,nests)"
   ]
  },
  {
   "cell_type": "code",
   "execution_count": 67,
   "metadata": {},
   "outputs": [],
   "source": [
    "def lower_most(arr, target, l):\n",
    "    s = 0\n",
    "    e = l-1\n",
    "    idx = -1\n",
    "    while s<=e:\n",
    "        m = (s+e)//2\n",
    "        if arr[m] < target:\n",
    "            idx = m\n",
    "            s = m + 1\n",
    "        else:\n",
    "            e = m - 1\n",
    "    return 0 if idx == -1 else idx\n",
    "\n",
    "def min_pair(arr1,arr2):\n",
    "    # sort any one of the array to perform Binary search\n",
    "    arr1.sort()\n",
    "    l = len(arr1)\n",
    "    global_diff = float('inf')\n",
    "    global_pair = [-1,-1]\n",
    "    for i in arr2:\n",
    "        lb = lower_most(arr1, i, l)\n",
    "        ###\n",
    "        diff = abs( i-arr1[lb] )\n",
    "        if diff < global_diff:\n",
    "            global_diff = diff\n",
    "            global_pair = [arr1[lb],i]\n",
    "            \n",
    "        # rb can be right bound or exact target if inside length\n",
    "        rb = lb+1\n",
    "        if rb < l:\n",
    "            ###\n",
    "            diff = abs( i-arr1[rb] )\n",
    "            if diff < global_diff:\n",
    "                global_diff = diff\n",
    "                global_pair = [arr1[rb],i]\n",
    "    return global_pair\n"
   ]
  },
  {
   "cell_type": "code",
   "execution_count": 68,
   "metadata": {},
   "outputs": [
    {
     "data": {
      "text/plain": [
       "[20, 17]"
      ]
     },
     "execution_count": 68,
     "metadata": {},
     "output_type": "execute_result"
    }
   ],
   "source": [
    "a1 = [-1,5,10,20,3]\n",
    "a2 = [26,134,135,15,17]\n",
    "min_pair(a1,a2)"
   ]
  },
  {
   "cell_type": "code",
   "execution_count": 56,
   "metadata": {},
   "outputs": [],
   "source": [
    "def lower_most(arr, target, l):\n",
    "    s = 0\n",
    "    e = l-1\n",
    "    idx = -1\n",
    "    while s<=e:\n",
    "        m = (s+e)//2\n",
    "        if arr[m] < target:\n",
    "            idx = m\n",
    "            s = m + 1\n",
    "        else:\n",
    "            e = m - 1\n",
    "    return 0 if idx == -1 else idx"
   ]
  },
  {
   "cell_type": "code",
   "execution_count": 57,
   "metadata": {},
   "outputs": [
    {
     "name": "stdout",
     "output_type": "stream",
     "text": [
      "[1, 2, 3, 4, 5, 6, 7]\n"
     ]
    },
    {
     "data": {
      "text/plain": [
       "5"
      ]
     },
     "execution_count": 57,
     "metadata": {},
     "output_type": "execute_result"
    }
   ],
   "source": [
    "arr1 = [i for i in range(1,8)]\n",
    "print(arr1)\n",
    "lower_most(arr1, 7, len(arr1))"
   ]
  },
  {
   "cell_type": "code",
   "execution_count": 58,
   "metadata": {},
   "outputs": [
    {
     "name": "stdout",
     "output_type": "stream",
     "text": [
      "[1, 2, 3, 4, 5, 6]\n"
     ]
    },
    {
     "data": {
      "text/plain": [
       "5"
      ]
     },
     "execution_count": 58,
     "metadata": {},
     "output_type": "execute_result"
    }
   ],
   "source": [
    "arr2 = [i for i in range(1,7)]\n",
    "print(arr2)\n",
    "lower_most(arr2, 7, len(arr2))"
   ]
  },
  {
   "cell_type": "code",
   "execution_count": 59,
   "metadata": {},
   "outputs": [
    {
     "name": "stdout",
     "output_type": "stream",
     "text": [
      "[7, 8, 9, 10, 11, 12, 13]\n"
     ]
    },
    {
     "data": {
      "text/plain": [
       "0"
      ]
     },
     "execution_count": 59,
     "metadata": {},
     "output_type": "execute_result"
    }
   ],
   "source": [
    "arr3 = [i for i in range(7,14)]\n",
    "print(arr3)\n",
    "lower_most(arr3, 7, len(arr3))"
   ]
  },
  {
   "cell_type": "code",
   "execution_count": 60,
   "metadata": {},
   "outputs": [
    {
     "name": "stdout",
     "output_type": "stream",
     "text": [
      "[6, 7, 8, 9, 10, 11, 12, 13, 14]\n"
     ]
    },
    {
     "data": {
      "text/plain": [
       "1"
      ]
     },
     "execution_count": 60,
     "metadata": {},
     "output_type": "execute_result"
    }
   ],
   "source": [
    "arr4 = [i for i in range(6,15)]\n",
    "print(arr4)\n",
    "lower_most(arr4, 7.5, len(arr4))"
   ]
  },
  {
   "cell_type": "code",
   "execution_count": 62,
   "metadata": {},
   "outputs": [
    {
     "name": "stdout",
     "output_type": "stream",
     "text": [
      "[6, 7, 8, 9, 10, 11]\n"
     ]
    },
    {
     "data": {
      "text/plain": [
       "0"
      ]
     },
     "execution_count": 62,
     "metadata": {},
     "output_type": "execute_result"
    }
   ],
   "source": [
    "arr5 = [i for i in range(6,12)]\n",
    "print(arr5)\n",
    "lower_most(arr5, 6.5, len(arr5))"
   ]
  }
 ],
 "metadata": {
  "interpreter": {
   "hash": "1c4eeb78d5e1dc6cb6e62b5bd20620b702dce5b8b8ded6688ef7aad2e1c0d17c"
  },
  "kernelspec": {
   "display_name": "Python 3.9.9 64-bit",
   "language": "python",
   "name": "python3"
  },
  "language_info": {
   "codemirror_mode": {
    "name": "ipython",
    "version": 3
   },
   "file_extension": ".py",
   "mimetype": "text/x-python",
   "name": "python",
   "nbconvert_exporter": "python",
   "pygments_lexer": "ipython3",
   "version": "3.9.9"
  },
  "orig_nbformat": 4
 },
 "nbformat": 4,
 "nbformat_minor": 2
}
