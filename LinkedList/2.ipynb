{
 "cells": [
  {
   "cell_type": "code",
   "execution_count": 2,
   "metadata": {},
   "outputs": [],
   "source": [
    "class Node:\n",
    "    def __init__(self, data, next=None):\n",
    "        self.data = data\n",
    "        self.next = next\n",
    "\n",
    "def insert_head(head: Node, d):\n",
    "    # deals with none head automatically\n",
    "    node = Node(d)\n",
    "    node.next = head\n",
    "    return node\n",
    "\n",
    "def insert_pos(head: Node, d, pos):\n",
    "    # deals with insert at head (None or not both) so temp will have next attr\n",
    "    if pos == 0:\n",
    "        return insert_head(head, d)\n",
    "    temp = head\n",
    "    i = 0\n",
    "    # ***** next should never be none AND other condition if any ****\n",
    "    while i != pos-1 and temp.next is not None:\n",
    "        temp = temp.next\n",
    "        i += 1\n",
    "    node = Node(d)\n",
    "    node.next = temp.next\n",
    "    temp.next = node\n",
    "    # head may change above(pos==0) so return new head anyway\n",
    "    return head\n",
    "\n",
    "\n",
    "def printLL(head: Node):\n",
    "    temp = head\n",
    "    while temp is not None:\n",
    "        print(temp.data,end=' -> ')\n",
    "        temp = temp.next\n",
    "    print('None')\n",
    "    return\n",
    "\n",
    "def RLL_r_1(currNode: Node, prevNode: Node = None):\n",
    "    if currNode is None:\n",
    "        # new node => last node\n",
    "        return prevNode\n",
    "    new_head = RLL_r_1(currNode.next, currNode)\n",
    "    currNode.next = prevNode\n",
    "    # carrying new node from top of stack to below\n",
    "    return new_head\n",
    "\n",
    "def RLL_r_2(currNode: Node):\n",
    "    if currNode.next is None:\n",
    "        # new node => last node\n",
    "        return currNode\n",
    "    new_head = RLL_r_2(currNode.next)\n",
    "    # node1 -> node2 -> node3 => node1 -> <- node2\n",
    "    currNode.next.next = currNode\n",
    "    # node1 -> <-node2 => node1 <- node2\n",
    "    # it will get change for every node down the stack anyway but except the previous head :(\n",
    "    currNode.next = None\n",
    "    # carrying new node from top of stack to below\n",
    "    return new_head\n",
    "\n",
    "def RLL_i(head: Node):\n",
    "    prevNode = None\n",
    "    currNode = head\n",
    "    while currNode is not None:\n",
    "        temp = currNode.next\n",
    "        currNode.next = prevNode\n",
    "        # iterate\n",
    "        prevNode = currNode\n",
    "        currNode = temp\n",
    "    # now prev points at last node and curr at none\n",
    "    return prevNode\n",
    "\n",
    "# group of k elements or less than k in last part if any\n",
    "def k_reverse(head, k):\n",
    "    if head is None:\n",
    "        return None \n",
    "    prevNode = None\n",
    "    currNode = head\n",
    "    i = 1\n",
    "    while currNode is not None and i <= k:\n",
    "        temp = currNode.next\n",
    "        currNode.next = prevNode\n",
    "        # iterate\n",
    "        prevNode = currNode\n",
    "        currNode = temp\n",
    "        i += 1\n",
    "    head.next = k_reverse(currNode, k)\n",
    "    return prevNode\n",
    "\n",
    "# group of k elements only\n",
    "def k_reverse_leftover(head, k):\n",
    "    if head is None:\n",
    "        return None \n",
    "    # check if k node present or not\n",
    "    i = 1\n",
    "    currNode = head\n",
    "    while currNode is not None and i <= k:\n",
    "        currNode = currNode.next\n",
    "        i += 1\n",
    "    # if k node not present\n",
    "    if i-1 != k:\n",
    "        return head\n",
    "    # if k node present\n",
    "    prevNode = None\n",
    "    currNode = head\n",
    "    i = 1\n",
    "    while currNode is not None and i <= k:\n",
    "        temp = currNode.next\n",
    "        currNode.next = prevNode\n",
    "        # iterate\n",
    "        prevNode = currNode\n",
    "        currNode = temp\n",
    "        i += 1\n",
    "    head.next = k_reverse_leftover(currNode, k)\n",
    "    return prevNode\n"
   ]
  },
  {
   "cell_type": "code",
   "execution_count": 3,
   "metadata": {},
   "outputs": [
    {
     "name": "stdout",
     "output_type": "stream",
     "text": [
      "4 -> 3 -> 2 -> 1 -> None\n",
      "1 -> 2 -> 3 -> 4 -> None\n",
      "4 -> 3 -> 2 -> 1 -> None\n",
      "1 -> 2 -> 3 -> 4 -> None\n"
     ]
    }
   ],
   "source": [
    "h1 = None\n",
    "h1 = insert_head(h1,1)\n",
    "h1 = insert_head(h1,2)\n",
    "h1 = insert_head(h1,3)\n",
    "h1 = insert_head(h1,4)\n",
    "printLL(h1)\n",
    "h1 = RLL_i(h1)\n",
    "printLL(h1)\n",
    "h1 = RLL_i(h1)\n",
    "printLL(h1)\n",
    "h1 = RLL_i(h1)\n",
    "printLL(h1)"
   ]
  },
  {
   "cell_type": "code",
   "execution_count": 4,
   "metadata": {},
   "outputs": [
    {
     "name": "stdout",
     "output_type": "stream",
     "text": [
      "4 -> 3 -> 2 -> 1 -> None\n",
      "1 -> 2 -> 3 -> 4 -> None\n",
      "4 -> 3 -> 2 -> 1 -> None\n",
      "1 -> 2 -> 3 -> 4 -> None\n"
     ]
    }
   ],
   "source": [
    "h2 = Node(1)\n",
    "h2 = insert_head(h2,2)\n",
    "h2 = insert_head(h2,3)\n",
    "h2 = insert_head(h2,4)\n",
    "printLL(h2)\n",
    "h2 = RLL_i(h2)\n",
    "printLL(h2)\n",
    "h2 = RLL_i(h2)\n",
    "printLL(h2)\n",
    "h2 = RLL_i(h2)\n",
    "printLL(h2)"
   ]
  },
  {
   "cell_type": "code",
   "execution_count": 5,
   "metadata": {},
   "outputs": [
    {
     "name": "stdout",
     "output_type": "stream",
     "text": [
      "1 -> 99 -> 2 -> 3 -> 4 -> None\n"
     ]
    }
   ],
   "source": [
    "h2 = insert_pos(h2,99,1)\n",
    "printLL(h2)"
   ]
  },
  {
   "cell_type": "code",
   "execution_count": 6,
   "metadata": {},
   "outputs": [
    {
     "name": "stdout",
     "output_type": "stream",
     "text": [
      "1 -> 2 -> 3 -> 4 -> 5 -> 6 -> 7 -> 8 -> None\n",
      "3 -> 2 -> 1 -> 6 -> 5 -> 4 -> 8 -> 7 -> None\n"
     ]
    }
   ],
   "source": [
    "h = None\n",
    "for i in range(8,0,-1):\n",
    "    h = insert_head(h, i)\n",
    "printLL(h)\n",
    "h = k_reverse(h,k=3)\n",
    "printLL(h)"
   ]
  },
  {
   "cell_type": "code",
   "execution_count": 7,
   "metadata": {},
   "outputs": [
    {
     "name": "stdout",
     "output_type": "stream",
     "text": [
      "1 -> 2 -> 3 -> 4 -> 5 -> 6 -> 7 -> 8 -> None\n",
      "3 -> 2 -> 1 -> 6 -> 5 -> 4 -> 7 -> 8 -> None\n"
     ]
    }
   ],
   "source": [
    "h = None\n",
    "for i in range(8,0,-1):\n",
    "    h = insert_head(h, i)\n",
    "printLL(h)\n",
    "h = k_reverse_leftover(h,k=3)\n",
    "printLL(h)"
   ]
  },
  {
   "cell_type": "code",
   "execution_count": 8,
   "metadata": {},
   "outputs": [],
   "source": [
    "#leetcode reverlinked list 2 => in range\n",
    "# def RLL(head: Node, left, right):\n",
    "#     prevNode = None\n",
    "#     currNode = head\n",
    "#     tempNode = None\n",
    "#     i = 1\n",
    "#     while i <= left:\n",
    "#         if i == left:\n",
    "#             tempNode = prevNode\n",
    "#         # iterate\n",
    "#         prevNode = currNode\n",
    "#         currNode = currNode.next\n",
    "#         i += 1\n",
    "    \n",
    "#     while i <= right: #currNode is not None:\n",
    "#         temp = currNode.next\n",
    "#         currNode.next = prevNode\n",
    "#         # iterate\n",
    "#         prevNode = currNode\n",
    "#         currNode = temp\n",
    "#         i += 1\n",
    "#     tempNode.next.next = currNode\n",
    "#     tempNode.next = prevNode\n",
    "#     return head"
   ]
  },
  {
   "cell_type": "code",
   "execution_count": 60,
   "metadata": {},
   "outputs": [],
   "source": [
    "# add two sorted linked list\n",
    "def merge_sorted(h1,h2):\n",
    "    if h1 is None:\n",
    "        return h2\n",
    "    if h2 is None:\n",
    "        return h1\n",
    "    \n",
    "    if h1.data < h2.data:\n",
    "        h1.next = merge_sorted(h1.next, h2)\n",
    "        return h1\n",
    "    else:\n",
    "        h2.next = merge_sorted(h1, h2.next)\n",
    "        return h2"
   ]
  },
  {
   "cell_type": "code",
   "execution_count": 61,
   "metadata": {},
   "outputs": [
    {
     "name": "stdout",
     "output_type": "stream",
     "text": [
      "0 -> 2 -> 4 -> 6 -> 8 -> 10 -> None\n",
      "1 -> 4 -> 7 -> 10 -> None\n",
      "0 -> 1 -> 2 -> 4 -> 4 -> 6 -> 7 -> 8 -> 10 -> 10 -> None\n"
     ]
    }
   ],
   "source": [
    "h1 = None\n",
    "for i in range(10,-1,-2):\n",
    "    h1 = insert_head(h1,i)\n",
    "printLL(h1)\n",
    "h2 = None\n",
    "for i in range(10,-1,-3):\n",
    "    h2 = insert_head(h2,i)\n",
    "printLL(h2)\n",
    "h = merge_sorted(h1, h2)\n",
    "printLL(h)"
   ]
  },
  {
   "cell_type": "code",
   "execution_count": 69,
   "metadata": {},
   "outputs": [],
   "source": [
    "# find find node of linked list (slow and fast pointer => runner technique)\n",
    "def LLmid(head: Node) -> Node:\n",
    "    slow = head\n",
    "    fast = head.next # 2x speed\n",
    "\n",
    "    while fast is not None and fast.next is not None:\n",
    "        slow = slow.next\n",
    "        fast = fast.next.next\n",
    "    \n",
    "    return slow\n",
    "\n",
    "def merge_sort(head: Node):\n",
    "    # if s<=e => empty or one element\n",
    "    if head is None or head.next is None:\n",
    "        return head\n",
    "    # find mid node\n",
    "    mid = LLmid(head)\n",
    "    # divide into two linked list\n",
    "    h1 = head\n",
    "    h2 = mid.next\n",
    "    mid.next = None # breaking connection\n",
    "    # D&C\n",
    "    h1 = merge_sort(h1) # [head:mid]\n",
    "    h2 = merge_sort(h2) # [mid+1:tail]\n",
    "    return merge_sorted(h1, h2)"
   ]
  },
  {
   "cell_type": "code",
   "execution_count": 70,
   "metadata": {},
   "outputs": [
    {
     "name": "stdout",
     "output_type": "stream",
     "text": [
      "2 -> 5 -> None\n"
     ]
    },
    {
     "data": {
      "text/plain": [
       "2"
      ]
     },
     "execution_count": 70,
     "metadata": {},
     "output_type": "execute_result"
    }
   ],
   "source": [
    "h = None\n",
    "for i in range(5,-1,-3):\n",
    "    h = insert_head(h,i)\n",
    "printLL(h)\n",
    "(LLmid(h)).data"
   ]
  },
  {
   "cell_type": "code",
   "execution_count": 77,
   "metadata": {},
   "outputs": [
    {
     "name": "stdout",
     "output_type": "stream",
     "text": [
      "15 -> 2 -> 10 -> 6 -> 15 -> 3 -> 16 -> 15 -> 19 -> 14 -> None\n",
      "2 -> 3 -> 6 -> 10 -> 14 -> 15 -> 15 -> 15 -> 16 -> 19 -> None\n"
     ]
    }
   ],
   "source": [
    "import random\n",
    "h = None\n",
    "for i in range(10):\n",
    "    h = insert_head(h,random.randint(1,20))\n",
    "printLL(h)\n",
    "h = merge_sort(h)\n",
    "printLL(h)"
   ]
  }
 ],
 "metadata": {
  "interpreter": {
   "hash": "1c4eeb78d5e1dc6cb6e62b5bd20620b702dce5b8b8ded6688ef7aad2e1c0d17c"
  },
  "kernelspec": {
   "display_name": "Python 3.9.9 64-bit",
   "language": "python",
   "name": "python3"
  },
  "language_info": {
   "codemirror_mode": {
    "name": "ipython",
    "version": 3
   },
   "file_extension": ".py",
   "mimetype": "text/x-python",
   "name": "python",
   "nbconvert_exporter": "python",
   "pygments_lexer": "ipython3",
   "version": "3.9.9"
  },
  "orig_nbformat": 4
 },
 "nbformat": 4,
 "nbformat_minor": 2
}
