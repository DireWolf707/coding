{
 "cells": [
  {
   "cell_type": "code",
   "execution_count": 50,
   "metadata": {},
   "outputs": [],
   "source": [
    "# bruteforce => O(n2)\n",
    "def pair1(array,S):\n",
    "    l = len(array)\n",
    "    for i in range(l-1):\n",
    "        for j in range(i+1,l):\n",
    "            if array[i]+array[j]==S:\n",
    "                return [array[i],array[j]]\n",
    "    \n",
    "    return [-1,-1]\n",
    "\n",
    "# sorting + binary search => O(nlogn + nlogn) = O(nlogn)\n",
    "def pair2(array,S):\n",
    "    array.sort()\n",
    "    last_idx = len(array) -1\n",
    "\n",
    "    for i in range(last_idx):\n",
    "        a = array[i]\n",
    "        target = S - a\n",
    "        s = i+1\n",
    "        e = last_idx\n",
    "        while s<=e:\n",
    "            m = (s+e)//2\n",
    "            if target == array[m]:\n",
    "                return [array[i],array[m]]\n",
    "            elif target <= array[m]:\n",
    "                e = m-1\n",
    "            else:\n",
    "                s = m+1\n",
    "\n",
    "# unordered set => O(n) + O(n)\n",
    "def pair3(array,S):\n",
    "    l = len(array)\n",
    "    hash = set()\n",
    "\n",
    "    for i in range(l):\n",
    "        a = array[i]\n",
    "        b = S - a\n",
    "        if b in hash:\n",
    "            return [a,b]\n",
    "        hash.add(a)\n",
    "    return [None,None]"
   ]
  },
  {
   "cell_type": "code",
   "execution_count": 51,
   "metadata": {},
   "outputs": [
    {
     "data": {
      "text/plain": [
       "[-6, 10]"
      ]
     },
     "execution_count": 51,
     "metadata": {},
     "output_type": "execute_result"
    }
   ],
   "source": [
    "array = [10,5,2,3,-6,9,11]\n",
    "target = 4\n",
    "pair3(array,target)"
   ]
  },
  {
   "cell_type": "code",
   "execution_count": 67,
   "metadata": {},
   "outputs": [],
   "source": [
    "# bruteforce => O(n3)\n",
    "def triplets1(arr,target):\n",
    "    l = len(array)\n",
    "    ans = list()\n",
    "    for i in range(l-2):\n",
    "        for j in range(i+1,l-1):\n",
    "            for k in range(j+1,l):\n",
    "                if arr[i]+arr[j]+arr[k] == target:\n",
    "                    ans.append([arr[i],arr[j],arr[k]])\n",
    "    return ans     \n",
    "\n",
    "# pair for each => O(n2) + O(n)     ####      \n",
    "def triplets2(arr,target):\n",
    "    l = len(array)\n",
    "    ans = list()\n",
    "    for i in range(l):\n",
    "        a = arr[i]\n",
    "        b,c = pair3(arr[i+1:],target-a)\n",
    "        if b is not None and c is not None:\n",
    "            ans.append([a,b,c])\n",
    "    return ans       \n",
    "\n",
    "# sorting + two pointer => O(nlogn + n2) = O(n2) \n",
    "def triplets3(arr,target):\n",
    "    arr.sort()\n",
    "    l = len(array)\n",
    "    ans = list()\n",
    "    for i in range(l-2):\n",
    "        j = i+1\n",
    "        k = l-1\n",
    "        curr_target = target - arr[i]\n",
    "        while j < k: # cant point to same\n",
    "            if arr[j] + arr[k] == curr_target:\n",
    "                ans.append([ arr[i],arr[j],arr[k] ])\n",
    "                j+=1\n",
    "                k-=1\n",
    "            elif arr[j] + arr[k] > curr_target:\n",
    "                k-=1\n",
    "            else:\n",
    "                j+=1\n",
    "    return ans"
   ]
  },
  {
   "cell_type": "code",
   "execution_count": 68,
   "metadata": {},
   "outputs": [
    {
     "data": {
      "text/plain": [
       "[[1, 2, 15],\n",
       " [1, 8, 9],\n",
       " [2, 7, 9],\n",
       " [3, 6, 9],\n",
       " [3, 7, 8],\n",
       " [4, 5, 9],\n",
       " [4, 6, 8],\n",
       " [5, 6, 7]]"
      ]
     },
     "execution_count": 68,
     "metadata": {},
     "output_type": "execute_result"
    }
   ],
   "source": [
    "array = [1,2,3,4,5,6,7,8,9,15]\n",
    "target = 18\n",
    "triplets3(array,target)"
   ]
  },
  {
   "cell_type": "code",
   "execution_count": 69,
   "metadata": {},
   "outputs": [],
   "source": [
    "# O(n + n) => O(n)\n",
    "def mountain1(arr):\n",
    "    l = len(arr)\n",
    "    max_range = 0\n",
    "    for i in range(1,l-1):\n",
    "        if arr[i-1] < arr[i] and arr[i] > arr[i+1]:\n",
    "            curr_range = 1\n",
    "            j = i-1\n",
    "            k = i+1\n",
    "            while 0 <= j and arr[j] < arr[j+1]:\n",
    "                curr_range += 1\n",
    "                j-=1\n",
    "            while k <= l-1 and arr[k-1] > arr[k]:\n",
    "                curr_range += 1\n",
    "                k+=1\n",
    "            max_range = max(curr_range,max_range)\n",
    "    return max_range\n",
    "\n",
    "# tweek\n",
    "def mountain2(arr):\n",
    "    e = len(arr)-1\n",
    "    max_range = 0\n",
    "    i = 1\n",
    "    while i < e :\n",
    "        if arr[i-1] < arr[i] and arr[i] > arr[i+1]:\n",
    "            curr_range = 1\n",
    "            j = i-1\n",
    "            k = i+1\n",
    "            while 0 <= j and arr[j] < arr[j+1]:\n",
    "                curr_range += 1\n",
    "                j-=1\n",
    "            while k <= e and arr[k-1] > arr[k]:\n",
    "                curr_range += 1\n",
    "                k+=1\n",
    "            max_range = max(curr_range,max_range)\n",
    "            # start after curr mountain ends (can also simply modify i in place of new var k instead)\n",
    "            i = k\n",
    "        else:\n",
    "            i += 1\n",
    "    return max_range\n",
    "\n"
   ]
  },
  {
   "cell_type": "code",
   "execution_count": 1,
   "metadata": {},
   "outputs": [],
   "source": [
    "# sorting + linear search => O(nlogn + n) = O(nlogn) ###\n",
    "def longest_band1(arr):\n",
    "    arr.sort()\n",
    "    max_length = 0\n",
    "    curr_lenght = 0\n",
    "    for i in range(len(arr)):\n",
    "        if i==0:\n",
    "            curr_lenght = 1\n",
    "        elif arr[i]-arr[i-1] == 1:\n",
    "            if curr_lenght == 0:\n",
    "                curr_lenght = 1\n",
    "            curr_lenght = curr_lenght+1\n",
    "        else:\n",
    "            max_length = max(max_length, curr_lenght)\n",
    "            curr_lenght = 0\n",
    "    return max(max_length, curr_lenght)\n",
    "\n",
    "# set => O(n) + O(n)\n",
    "def longest_band2(arr):\n",
    "    hash = set()\n",
    "    for i in arr:\n",
    "        hash.add(i)\n",
    "\n",
    "    max_length = 0\n",
    "    for i in arr:\n",
    "        if i-1 not in hash:\n",
    "            curr_lenght = 0\n",
    "            while i in hash:\n",
    "                curr_lenght += 1\n",
    "                i += 1\n",
    "            max_length = max(curr_lenght, max_length)\n",
    "    return max_length\n"
   ]
  },
  {
   "cell_type": "code",
   "execution_count": 10,
   "metadata": {},
   "outputs": [
    {
     "data": {
      "text/plain": [
       "8"
      ]
     },
     "execution_count": 10,
     "metadata": {},
     "output_type": "execute_result"
    }
   ],
   "source": [
    "array = [1,9,3,0,18,5,2,4,10,7,12,6]\n",
    "longest_band2(array)"
   ]
  },
  {
   "cell_type": "code",
   "execution_count": 37,
   "metadata": {},
   "outputs": [],
   "source": [
    "# O(n2) ###\n",
    "def rain(heights):\n",
    "    e = len(heights) - 1\n",
    "    water = 0\n",
    "    for i in range(1,e):\n",
    "        j = i-1\n",
    "        k = i+1\n",
    "        l_max = heights[j]\n",
    "        while j > 0 and heights[j-1] > heights[j]:\n",
    "            l_max = heights[j-1]\n",
    "            j-=1\n",
    "        r_max = heights[k]\n",
    "        while k < e and heights[k] < heights[k+1]:\n",
    "            r_max = heights[k+1]\n",
    "            k+=1\n",
    "\n",
    "        print(i,l_max, r_max)\n",
    "        water +=  min(l_max, r_max) - heights[i]\n",
    "    return water\n",
    "\n",
    "# O(n)\n",
    "def rain2(heights):\n",
    "    l = len(heights)\n",
    "\n",
    "    if l<2:\n",
    "        return 0\n",
    "\n",
    "    left = [0 for i in range(l)]\n",
    "    right = [0 for i in range(l)]\n",
    "    for i in range(l):\n",
    "        left[i] = max(left[i-1],heights[i]) if i > 0 else heights[i]\n",
    "        right[l-(i+1)] = max(right[l-i],heights[l-(i+1)]) if i > 0 else heights[l-(i+1)]\n",
    "    \n",
    "    water = 0\n",
    "    for i in range(l):\n",
    "        water += min(left[i],right[i]) - heights[i]\n",
    "    \n",
    "    return water\n",
    "\n",
    "\n"
   ]
  },
  {
   "cell_type": "code",
   "execution_count": 38,
   "metadata": {},
   "outputs": [
    {
     "data": {
      "text/plain": [
       "6"
      ]
     },
     "execution_count": 38,
     "metadata": {},
     "output_type": "execute_result"
    }
   ],
   "source": [
    "heights = [0,1,0,2,1,0,1,3,2,1,2,1]\n",
    "rain2(heights)"
   ]
  },
  {
   "cell_type": "code",
   "execution_count": null,
   "metadata": {},
   "outputs": [],
   "source": []
  }
 ],
 "metadata": {
  "interpreter": {
   "hash": "1c4eeb78d5e1dc6cb6e62b5bd20620b702dce5b8b8ded6688ef7aad2e1c0d17c"
  },
  "kernelspec": {
   "display_name": "Python 3.9.9 64-bit",
   "language": "python",
   "name": "python3"
  },
  "language_info": {
   "codemirror_mode": {
    "name": "ipython",
    "version": 3
   },
   "file_extension": ".py",
   "mimetype": "text/x-python",
   "name": "python",
   "nbconvert_exporter": "python",
   "pygments_lexer": "ipython3",
   "version": "3.9.9"
  },
  "orig_nbformat": 4
 },
 "nbformat": 4,
 "nbformat_minor": 2
}
