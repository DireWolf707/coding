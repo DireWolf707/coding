{
 "cells": [
  {
   "cell_type": "code",
   "execution_count": 1,
   "metadata": {},
   "outputs": [
    {
     "name": "stdout",
     "output_type": "stream",
     "text": [
      "1,\n",
      "1,2,\n",
      "1,2,3,\n",
      "1,2,3,4,\n",
      "1,2,3,4,5,\n",
      "1,2,3,4,5,6,\n",
      "2,\n",
      "2,3,\n",
      "2,3,4,\n",
      "2,3,4,5,\n",
      "2,3,4,5,6,\n",
      "3,\n",
      "3,4,\n",
      "3,4,5,\n",
      "3,4,5,6,\n",
      "4,\n",
      "4,5,\n",
      "4,5,6,\n",
      "5,\n",
      "5,6,\n",
      "6,\n"
     ]
    }
   ],
   "source": [
    "def printAllSubarrays(arr):\n",
    "    l = len(arr)\n",
    "    for i in range(l):\n",
    "        for j in range(i,l):\n",
    "            for k in range(i,j+1):\n",
    "                print(arr[k],end=',')\n",
    "            print()\n",
    "array = [1,2,3,4,5,6]\n",
    "s = printAllSubarrays(array)"
   ]
  },
  {
   "cell_type": "code",
   "execution_count": 22,
   "metadata": {},
   "outputs": [
    {
     "data": {
      "text/plain": [
       "10"
      ]
     },
     "execution_count": 22,
     "metadata": {},
     "output_type": "execute_result"
    }
   ],
   "source": [
    "# bruteforce n3\n",
    "def largestSubArraySum1(arr):\n",
    "    l = len(arr)\n",
    "    mx = -1\n",
    "    for i in range(l):\n",
    "        for j in range(i,l):\n",
    "            cs = 0\n",
    "            for k in range(i,j+1):\n",
    "                cs+= arr[k]\n",
    "            mx = max(cs,mx)\n",
    "    return (mx)\n",
    "# bruteforce n2\n",
    "def largestSubArraySum1(arr):\n",
    "    l = len(arr)\n",
    "    mx = -1\n",
    "    for i in range(l):\n",
    "        cs = 0\n",
    "        for j in range(i,l):\n",
    "            cs += arr[j]\n",
    "            mx = max(cs,mx)\n",
    "    return (mx)\n",
    "array = [10,-99,2,-2,3,4]\n",
    "largestSubArraySum1(array)"
   ]
  },
  {
   "cell_type": "code",
   "execution_count": 24,
   "metadata": {},
   "outputs": [
    {
     "name": "stdout",
     "output_type": "stream",
     "text": [
      "13\n"
     ]
    }
   ],
   "source": [
    "def largestSubArraySum2(arr):\n",
    "    l = len(arr)\n",
    "    prefix = list()\n",
    "    for i in range(l):\n",
    "        cs = arr[i]\n",
    "        if i!=0 : cs+= prefix[i-1] \n",
    "        prefix.append(cs)\n",
    "    ms = float('-inf')\n",
    "    for i in range(l):\n",
    "        for j in range(i,l):\n",
    "            cs = prefix[j] - prefix[i-1] if i>0 else prefix[j]\n",
    "            ms = max(cs,ms)\n",
    "    print(ms)\n",
    "\n",
    "\n",
    "array = [10,-4,2,-2,3,4,-2]\n",
    "s = largestSubArraySum2(array)"
   ]
  },
  {
   "cell_type": "code",
   "execution_count": 1,
   "metadata": {},
   "outputs": [
    {
     "name": "stdout",
     "output_type": "stream",
     "text": [
      "13\n"
     ]
    }
   ],
   "source": [
    "def largestSubArraySum3(arr):\n",
    "    cs = 0\n",
    "    ms = float('-inf')\n",
    "    for i in arr:\n",
    "        cs += i\n",
    "        ms = max(cs,ms) \n",
    "        # leave the sub array (reset cs) if getting negative\n",
    "        if cs < 0: cs = 0\n",
    "    print(ms)\n",
    "\n",
    "\n",
    "array = [10,-4,2,-2,3,4,-2]\n",
    "s = largestSubArraySum3(array)"
   ]
  },
  {
   "cell_type": "code",
   "execution_count": 11,
   "metadata": {},
   "outputs": [
    {
     "data": {
      "text/plain": [
       "0"
      ]
     },
     "execution_count": 11,
     "metadata": {},
     "output_type": "execute_result"
    }
   ],
   "source": [
    "def rotatedArray(arr,v):\n",
    "    s = 0\n",
    "    e = len(arr)-1\n",
    "\n",
    "    while (s <= e):\n",
    "        m = (s+e)//2\n",
    "\n",
    "        if arr[m] == v: return m \n",
    "        # lies of left part\n",
    "        if arr[s] <= arr[m]:\n",
    "            # range check\n",
    "            if arr[s] <= v and v <= arr[m]:\n",
    "                e = m - 1\n",
    "            else:\n",
    "                s = m + 1\n",
    "        #lies on right part\n",
    "        else:\n",
    "            # range check\n",
    "            if arr[m] <= v and v <= arr[e]:\n",
    "                s = m + 1\n",
    "            else:\n",
    "                e = m - 1\n",
    "    return -1\n",
    "\n",
    "rotatedArray([4,5,6,7,0,1,2,3],4)\n",
    "    "
   ]
  },
  {
   "cell_type": "code",
   "execution_count": null,
   "metadata": {},
   "outputs": [],
   "source": []
  }
 ],
 "metadata": {
  "interpreter": {
   "hash": "2a8431a8e68ef2d76b7193ad360e5695863511544801ded22bf3f46f40f05425"
  },
  "kernelspec": {
   "display_name": "Python 3.9.9 64-bit",
   "language": "python",
   "name": "python3"
  },
  "language_info": {
   "codemirror_mode": {
    "name": "ipython",
    "version": 3
   },
   "file_extension": ".py",
   "mimetype": "text/x-python",
   "name": "python",
   "nbconvert_exporter": "python",
   "pygments_lexer": "ipython3",
   "version": "3.9.9"
  },
  "orig_nbformat": 4
 },
 "nbformat": 4,
 "nbformat_minor": 2
}
