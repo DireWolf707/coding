{
 "cells": [
  {
   "cell_type": "code",
   "execution_count": 10,
   "metadata": {},
   "outputs": [],
   "source": [
    "def first_non_repeating(arr):\n",
    "    from collections import deque\n",
    "    q = deque()\n",
    "    hash = dict()\n",
    "    for i in arr:\n",
    "        # adding new ele in stream\n",
    "        q.append(i)\n",
    "        # updating its hash\n",
    "        hash[i] = hash.get(i, 0) + 1\n",
    "        # deque until front is empty or unique => dont run if front is unique already even after adding new ele\n",
    "        while q and hash[q[0]] != 1:\n",
    "            q.popleft()\n",
    "        # return first if not empty else -1\n",
    "        if q:\n",
    "            return q[0]\n",
    "        return -1"
   ]
  },
  {
   "cell_type": "code",
   "execution_count": 35,
   "metadata": {},
   "outputs": [],
   "source": [
    "def max_subarray_k(arr, k):\n",
    "    from collections import deque\n",
    "    q = deque() # stores index of max elements\n",
    "    for i in range(k):\n",
    "        # remove smaller elements index from going to add element index from last\n",
    "        while q and arr[q[-1]] <= arr[i]:\n",
    "            q.pop()\n",
    "        q.append(i)\n",
    "    ans = list()\n",
    "    for i in range(k,len(arr)):\n",
    "        ans.append(arr[q[0]])\n",
    "        # remove elements from front that gets out of range (k) by looking at their index stored in queue\n",
    "        while q and q[0] <= i-k:\n",
    "            q.popleft()\n",
    "        # remove smaller elements index from going to add element index from last\n",
    "        while q and arr[q[-1]] <= arr[i]:\n",
    "            q.pop()\n",
    "        q.append(i)\n",
    "    # last subarray dont get included\n",
    "    ans.append(arr[q[0]])\n",
    "    return ans\n",
    "        "
   ]
  },
  {
   "cell_type": "code",
   "execution_count": 36,
   "metadata": {},
   "outputs": [
    {
     "data": {
      "text/plain": [
       "[3, 3, 5, 5, 6, 7]"
      ]
     },
     "execution_count": 36,
     "metadata": {},
     "output_type": "execute_result"
    }
   ],
   "source": [
    "arr = [1,3,-1,-3,5,3,6,7]\n",
    "max_subarray_k(arr, 3)"
   ]
  }
 ],
 "metadata": {
  "interpreter": {
   "hash": "1c4eeb78d5e1dc6cb6e62b5bd20620b702dce5b8b8ded6688ef7aad2e1c0d17c"
  },
  "kernelspec": {
   "display_name": "Python 3.9.9 64-bit",
   "language": "python",
   "name": "python3"
  },
  "language_info": {
   "codemirror_mode": {
    "name": "ipython",
    "version": 3
   },
   "file_extension": ".py",
   "mimetype": "text/x-python",
   "name": "python",
   "nbconvert_exporter": "python",
   "pygments_lexer": "ipython3",
   "version": "3.9.9"
  },
  "orig_nbformat": 4
 },
 "nbformat": 4,
 "nbformat_minor": 2
}
