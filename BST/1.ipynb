{
 "cells": [
  {
   "cell_type": "markdown",
   "metadata": {},
   "source": [
    "##### Inorder is sorted\n",
    "##### searching is O(logn) for best case and O(n) for worst case"
   ]
  },
  {
   "cell_type": "code",
   "execution_count": 5,
   "metadata": {},
   "outputs": [],
   "source": [
    "class Node:\n",
    "    def __init__(self, d, left = None, right = None):\n",
    "        self.data = d\n",
    "        self.left = left\n",
    "        self.right = right\n",
    "\n",
    "def inorder(node: Node):\n",
    "    if node is None:\n",
    "        return \n",
    "    inorder(node.left)\n",
    "    print(node.data,end=' ')\n",
    "    inorder(node.right)\n",
    "    return"
   ]
  },
  {
   "cell_type": "code",
   "execution_count": 67,
   "metadata": {},
   "outputs": [],
   "source": [
    "def insert(node, d):\n",
    "    if node is None:\n",
    "        return Node(d)\n",
    "    if d < node.data:\n",
    "        node.left = insert(node.left, d)\n",
    "    else:\n",
    "        node.right = insert(node.right, d)\n",
    "    return node\n",
    "\n",
    "def search(node, d):\n",
    "    if node is None:\n",
    "        return False\n",
    "    if node.data == d:\n",
    "        return True\n",
    "    if d < node.data :\n",
    "        return search(node.left, d)\n",
    "    return search(node.right, d)\n",
    "\n",
    "def find_min(node):\n",
    "    while node.left is not None:\n",
    "        node = node.left\n",
    "    return node\n",
    "\n",
    "def delete(root: Node, d):\n",
    "    if root is None:\n",
    "        return None\n",
    "    \n",
    "    if d < root.data:\n",
    "        root.left = delete(root.left, d)\n",
    "    elif d > root.data:\n",
    "        root.right = delete(root.right, d)\n",
    "    else:\n",
    "        # no child\n",
    "        if root.left is None and root.right is None:\n",
    "            del root\n",
    "            root = None\n",
    "        # 1 child\n",
    "        elif root.left is None:\n",
    "            temp = root\n",
    "            root = root.right\n",
    "            del temp\n",
    "            #return temp.right\n",
    "        elif root.right is None:\n",
    "            temp = root\n",
    "            root = root.left\n",
    "            del temp\n",
    "        else:\n",
    "            temp = find_min(root.right)\n",
    "            root.data = temp.data\n",
    "            root.right = delete(root.right, temp.data)\n",
    "    return root"
   ]
  },
  {
   "cell_type": "code",
   "execution_count": 92,
   "metadata": {},
   "outputs": [
    {
     "name": "stdout",
     "output_type": "stream",
     "text": [
      "0 1 2 3 4 7 9 "
     ]
    }
   ],
   "source": [
    "root = None\n",
    "for i in [7,4,9,3,1,0,2]:\n",
    "    root = insert(root, i)\n",
    "inorder(root)"
   ]
  },
  {
   "cell_type": "code",
   "execution_count": 72,
   "metadata": {},
   "outputs": [
    {
     "data": {
      "text/plain": [
       "True"
      ]
     },
     "execution_count": 72,
     "metadata": {},
     "output_type": "execute_result"
    }
   ],
   "source": [
    "search(root,7)"
   ]
  },
  {
   "cell_type": "code",
   "execution_count": 76,
   "metadata": {},
   "outputs": [
    {
     "name": "stdout",
     "output_type": "stream",
     "text": [
      "0 1 2 3 7 "
     ]
    }
   ],
   "source": [
    "delete(root,7)\n",
    "inorder(root)"
   ]
  },
  {
   "cell_type": "code",
   "execution_count": 80,
   "metadata": {},
   "outputs": [],
   "source": [
    "def print_range(root: Node,k1,k2):\n",
    "    if root is None: \n",
    "        return\n",
    "    if k1 <= root.data and root.data <= k2:\n",
    "        print_range(root.left,k1,k2)\n",
    "        print(root.data, end=' ')\n",
    "        print_range(root.right,k1,k2)\n",
    "    elif root.data < k1: \n",
    "        print_range(root.right,k1,k2)\n",
    "    else: # k2 < root.data\n",
    "        print_range(root.left,k1,k2)"
   ]
  },
  {
   "cell_type": "code",
   "execution_count": 85,
   "metadata": {},
   "outputs": [
    {
     "name": "stdout",
     "output_type": "stream",
     "text": [
      "4 7 "
     ]
    }
   ],
   "source": [
    "print_range(root,4,8)"
   ]
  },
  {
   "cell_type": "code",
   "execution_count": 99,
   "metadata": {},
   "outputs": [
    {
     "name": "stdout",
     "output_type": "stream",
     "text": [
      "74310 74312 79 "
     ]
    }
   ],
   "source": [
    "def path(root, s=''):\n",
    "    if root is None:\n",
    "        return\n",
    "    if root.left is None and root.right is None:\n",
    "        print(s+str(root.data),end=' ')\n",
    "        return\n",
    "    path(root.left, s+str(root.data))\n",
    "    path(root.right, s+str(root.data))\n",
    "path(root)"
   ]
  },
  {
   "cell_type": "code",
   "execution_count": null,
   "metadata": {},
   "outputs": [],
   "source": []
  }
 ],
 "metadata": {
  "interpreter": {
   "hash": "2a8431a8e68ef2d76b7193ad360e5695863511544801ded22bf3f46f40f05425"
  },
  "kernelspec": {
   "display_name": "Python 3.9.9 64-bit",
   "language": "python",
   "name": "python3"
  },
  "language_info": {
   "codemirror_mode": {
    "name": "ipython",
    "version": 3
   },
   "file_extension": ".py",
   "mimetype": "text/x-python",
   "name": "python",
   "nbconvert_exporter": "python",
   "pygments_lexer": "ipython3",
   "version": "3.9.9"
  },
  "orig_nbformat": 4
 },
 "nbformat": 4,
 "nbformat_minor": 2
}
